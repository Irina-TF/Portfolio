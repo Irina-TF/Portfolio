{
 "cells": [
  {
   "cell_type": "markdown",
   "id": "6909038d",
   "metadata": {},
   "source": [
    "# Анализ взаимодействий пользователей с карточками Яндекс.Дзен"
   ]
  },
  {
   "cell_type": "markdown",
   "id": "cf249f26",
   "metadata": {},
   "source": [
    "Цель работы - используя данные Яндекс.Дзена построить дашборд с метриками взаимодействия пользователей с карточками статей"
   ]
  },
  {
   "cell_type": "markdown",
   "id": "3c6c081c",
   "metadata": {},
   "source": [
    "## Дашборд"
   ]
  },
  {
   "cell_type": "markdown",
   "id": "2098bafc",
   "metadata": {},
   "source": [
    "https://public.tableau.com/app/profile/irina.trofimenko/viz/Yandex_Dzen__16844080381220/Dashboard1?publish=yes"
   ]
  }
 ],
 "metadata": {
  "kernelspec": {
   "display_name": "Python 3 (ipykernel)",
   "language": "python",
   "name": "python3"
  },
  "language_info": {
   "codemirror_mode": {
    "name": "ipython",
    "version": 3
   },
   "file_extension": ".py",
   "mimetype": "text/x-python",
   "name": "python",
   "nbconvert_exporter": "python",
   "pygments_lexer": "ipython3",
   "version": "3.10.9"
  }
 },
 "nbformat": 4,
 "nbformat_minor": 5
}
