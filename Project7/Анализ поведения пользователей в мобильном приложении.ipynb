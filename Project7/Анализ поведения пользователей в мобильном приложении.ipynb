{
 "cells": [
  {
   "cell_type": "markdown",
   "id": "42c3ad8d",
   "metadata": {},
   "source": [
    "# Анализ поведения пользователей в мобильном приложении."
   ]
  },
  {
   "cell_type": "markdown",
   "id": "01d4091b",
   "metadata": {},
   "source": [
    "В данной работе нужно будет изучить поведение пользователей мобильного приложения по продаже продуктов питания. Сначала подготовим данные для дальнейшего анализа, затем изучим их, после изучим воронку продаж и проанализируем результаты A/A/B-эксперимента по изменению шрифта во всем приложении."
   ]
  },
  {
   "cell_type": "markdown",
   "id": "69861245",
   "metadata": {},
   "source": [
    "1. [Загрузка данных и ознакомление с ними](#start)\n",
    "2. [Подготовка данных к дальнейшему анализу](#preprocessing)\n",
    "    \n",
    "3. [Изучение и проверка данных](#analiz)\n",
    "    * [Подсчет количества всех событий](#cnt)\n",
    "    * [Подсчет количества пользователей](#users)\n",
    "    * [Сколько в среднем событий приходится на одного пользователя](#mean)\n",
    "    * [Определение временного периода](#time)\n",
    "    * [Определение сколько событий и пользователей потеряли, отбросив старые данные](#poteri)\n",
    "    * [Анализ пользователей по группам](#group)\n",
    "    \n",
    "4. [Изучение воронки событий](#voronka)\n",
    "    * [Определение частоты каждого события](#share)\n",
    "    * [Подсчет количества пользователей, совершивших каждое из событий](#count)\n",
    "    * [Подсчет доли пользователей, которые хоть раз совершали событие](#event)\n",
    "    * [Предположение в каком порядке происходят события](#por)\n",
    "    * [Подсчет доли пользователей, переходящих на следующий шаг воронки](#share_vor)\n",
    "    * [ Подсчет доли пользователей, которые проходят путь от первого события до оплаты](#one)\n",
    "\n",
    "5. [Изучение результатов эксперимента](#result)\n",
    "    * [Подсчет количества пользователей в каждом эксперименте](#uniq)\n",
    "    * [Проверка доли пользователей по событиям для каждой группы теста](#test)\n",
    "    \n",
    "6. [Вывод](#all)"
   ]
  },
  {
   "cell_type": "markdown",
   "id": "754d772e",
   "metadata": {},
   "source": [
    "## 1 Загрузка данных и ознакомление с ними\n",
    "<a id=\"start\"></a> "
   ]
  },
  {
   "cell_type": "code",
   "execution_count": 57,
   "id": "8425500c",
   "metadata": {},
   "outputs": [],
   "source": [
    "#импортируем нужные библиотеки для дальнейшей работы\n",
    "import pandas as pd\n",
    "import datetime as dt\n",
    "import matplotlib.pyplot as plt\n",
    "from plotly import graph_objects as go\n",
    "from scipy import stats as st\n",
    "import numpy as np\n",
    "import math as mth"
   ]
  },
  {
   "cell_type": "code",
   "execution_count": 58,
   "id": "29b8e064",
   "metadata": {},
   "outputs": [
    {
     "data": {
      "text/html": [
       "<div>\n",
       "<style scoped>\n",
       "    .dataframe tbody tr th:only-of-type {\n",
       "        vertical-align: middle;\n",
       "    }\n",
       "\n",
       "    .dataframe tbody tr th {\n",
       "        vertical-align: top;\n",
       "    }\n",
       "\n",
       "    .dataframe thead th {\n",
       "        text-align: right;\n",
       "    }\n",
       "</style>\n",
       "<table border=\"1\" class=\"dataframe\">\n",
       "  <thead>\n",
       "    <tr style=\"text-align: right;\">\n",
       "      <th></th>\n",
       "      <th>EventName</th>\n",
       "      <th>DeviceIDHash</th>\n",
       "      <th>EventTimestamp</th>\n",
       "      <th>ExpId</th>\n",
       "    </tr>\n",
       "  </thead>\n",
       "  <tbody>\n",
       "    <tr>\n",
       "      <th>0</th>\n",
       "      <td>MainScreenAppear</td>\n",
       "      <td>4575588528974610257</td>\n",
       "      <td>1564029816</td>\n",
       "      <td>246</td>\n",
       "    </tr>\n",
       "    <tr>\n",
       "      <th>1</th>\n",
       "      <td>MainScreenAppear</td>\n",
       "      <td>7416695313311560658</td>\n",
       "      <td>1564053102</td>\n",
       "      <td>246</td>\n",
       "    </tr>\n",
       "    <tr>\n",
       "      <th>2</th>\n",
       "      <td>PaymentScreenSuccessful</td>\n",
       "      <td>3518123091307005509</td>\n",
       "      <td>1564054127</td>\n",
       "      <td>248</td>\n",
       "    </tr>\n",
       "    <tr>\n",
       "      <th>3</th>\n",
       "      <td>CartScreenAppear</td>\n",
       "      <td>3518123091307005509</td>\n",
       "      <td>1564054127</td>\n",
       "      <td>248</td>\n",
       "    </tr>\n",
       "    <tr>\n",
       "      <th>4</th>\n",
       "      <td>PaymentScreenSuccessful</td>\n",
       "      <td>6217807653094995999</td>\n",
       "      <td>1564055322</td>\n",
       "      <td>248</td>\n",
       "    </tr>\n",
       "    <tr>\n",
       "      <th>5</th>\n",
       "      <td>CartScreenAppear</td>\n",
       "      <td>6217807653094995999</td>\n",
       "      <td>1564055323</td>\n",
       "      <td>248</td>\n",
       "    </tr>\n",
       "    <tr>\n",
       "      <th>6</th>\n",
       "      <td>OffersScreenAppear</td>\n",
       "      <td>8351860793733343758</td>\n",
       "      <td>1564066242</td>\n",
       "      <td>246</td>\n",
       "    </tr>\n",
       "    <tr>\n",
       "      <th>7</th>\n",
       "      <td>MainScreenAppear</td>\n",
       "      <td>5682100281902512875</td>\n",
       "      <td>1564085677</td>\n",
       "      <td>246</td>\n",
       "    </tr>\n",
       "    <tr>\n",
       "      <th>8</th>\n",
       "      <td>MainScreenAppear</td>\n",
       "      <td>1850981295691852772</td>\n",
       "      <td>1564086702</td>\n",
       "      <td>247</td>\n",
       "    </tr>\n",
       "    <tr>\n",
       "      <th>9</th>\n",
       "      <td>MainScreenAppear</td>\n",
       "      <td>5407636962369102641</td>\n",
       "      <td>1564112112</td>\n",
       "      <td>246</td>\n",
       "    </tr>\n",
       "  </tbody>\n",
       "</table>\n",
       "</div>"
      ],
      "text/plain": [
       "                 EventName         DeviceIDHash  EventTimestamp  ExpId\n",
       "0         MainScreenAppear  4575588528974610257      1564029816    246\n",
       "1         MainScreenAppear  7416695313311560658      1564053102    246\n",
       "2  PaymentScreenSuccessful  3518123091307005509      1564054127    248\n",
       "3         CartScreenAppear  3518123091307005509      1564054127    248\n",
       "4  PaymentScreenSuccessful  6217807653094995999      1564055322    248\n",
       "5         CartScreenAppear  6217807653094995999      1564055323    248\n",
       "6       OffersScreenAppear  8351860793733343758      1564066242    246\n",
       "7         MainScreenAppear  5682100281902512875      1564085677    246\n",
       "8         MainScreenAppear  1850981295691852772      1564086702    247\n",
       "9         MainScreenAppear  5407636962369102641      1564112112    246"
      ]
     },
     "execution_count": 58,
     "metadata": {},
     "output_type": "execute_result"
    }
   ],
   "source": [
    "df=pd.read_csv('logs_exp.csv',sep='\\t') #открытие файла\n",
    "df.head(10)"
   ]
  },
  {
   "cell_type": "code",
   "execution_count": 59,
   "id": "2b3bf8bb",
   "metadata": {},
   "outputs": [
    {
     "name": "stdout",
     "output_type": "stream",
     "text": [
      "<class 'pandas.core.frame.DataFrame'>\n",
      "RangeIndex: 244126 entries, 0 to 244125\n",
      "Data columns (total 4 columns):\n",
      " #   Column          Non-Null Count   Dtype \n",
      "---  ------          --------------   ----- \n",
      " 0   EventName       244126 non-null  object\n",
      " 1   DeviceIDHash    244126 non-null  int64 \n",
      " 2   EventTimestamp  244126 non-null  int64 \n",
      " 3   ExpId           244126 non-null  int64 \n",
      "dtypes: int64(3), object(1)\n",
      "memory usage: 7.5+ MB\n"
     ]
    }
   ],
   "source": [
    "df.info() #вывод общей информации о данных"
   ]
  },
  {
   "cell_type": "markdown",
   "id": "f02ae239",
   "metadata": {},
   "source": [
    "Мы ознакомились с полученными данными. Пропусков значений в данных нет. Но нужно будет в следующем блоке изменить названия столбцов на змеиный регист , создать столбец с датой и временем и отдельно с датой. Так же мы проверим данные на наличие дубликатов."
   ]
  },
  {
   "cell_type": "markdown",
   "id": "658cdcda",
   "metadata": {},
   "source": [
    "## 2 Подготовка данных к дальнейшему анализу\n",
    "<a id=\"preprocessing\"></a> "
   ]
  },
  {
   "cell_type": "code",
   "execution_count": 60,
   "id": "84cca9a8",
   "metadata": {},
   "outputs": [
    {
     "data": {
      "text/html": [
       "<div>\n",
       "<style scoped>\n",
       "    .dataframe tbody tr th:only-of-type {\n",
       "        vertical-align: middle;\n",
       "    }\n",
       "\n",
       "    .dataframe tbody tr th {\n",
       "        vertical-align: top;\n",
       "    }\n",
       "\n",
       "    .dataframe thead th {\n",
       "        text-align: right;\n",
       "    }\n",
       "</style>\n",
       "<table border=\"1\" class=\"dataframe\">\n",
       "  <thead>\n",
       "    <tr style=\"text-align: right;\">\n",
       "      <th></th>\n",
       "      <th>event_name</th>\n",
       "      <th>device_id</th>\n",
       "      <th>event_time</th>\n",
       "      <th>exp_id</th>\n",
       "    </tr>\n",
       "  </thead>\n",
       "  <tbody>\n",
       "    <tr>\n",
       "      <th>0</th>\n",
       "      <td>MainScreenAppear</td>\n",
       "      <td>4575588528974610257</td>\n",
       "      <td>1564029816</td>\n",
       "      <td>246</td>\n",
       "    </tr>\n",
       "    <tr>\n",
       "      <th>1</th>\n",
       "      <td>MainScreenAppear</td>\n",
       "      <td>7416695313311560658</td>\n",
       "      <td>1564053102</td>\n",
       "      <td>246</td>\n",
       "    </tr>\n",
       "    <tr>\n",
       "      <th>2</th>\n",
       "      <td>PaymentScreenSuccessful</td>\n",
       "      <td>3518123091307005509</td>\n",
       "      <td>1564054127</td>\n",
       "      <td>248</td>\n",
       "    </tr>\n",
       "    <tr>\n",
       "      <th>3</th>\n",
       "      <td>CartScreenAppear</td>\n",
       "      <td>3518123091307005509</td>\n",
       "      <td>1564054127</td>\n",
       "      <td>248</td>\n",
       "    </tr>\n",
       "    <tr>\n",
       "      <th>4</th>\n",
       "      <td>PaymentScreenSuccessful</td>\n",
       "      <td>6217807653094995999</td>\n",
       "      <td>1564055322</td>\n",
       "      <td>248</td>\n",
       "    </tr>\n",
       "  </tbody>\n",
       "</table>\n",
       "</div>"
      ],
      "text/plain": [
       "                event_name            device_id  event_time  exp_id\n",
       "0         MainScreenAppear  4575588528974610257  1564029816     246\n",
       "1         MainScreenAppear  7416695313311560658  1564053102     246\n",
       "2  PaymentScreenSuccessful  3518123091307005509  1564054127     248\n",
       "3         CartScreenAppear  3518123091307005509  1564054127     248\n",
       "4  PaymentScreenSuccessful  6217807653094995999  1564055322     248"
      ]
     },
     "execution_count": 60,
     "metadata": {},
     "output_type": "execute_result"
    }
   ],
   "source": [
    "#изменение названия столбцов\n",
    "df.columns=['event_name','device_id','event_time','exp_id']\n",
    "df.head()"
   ]
  },
  {
   "cell_type": "code",
   "execution_count": 61,
   "id": "64c982ad",
   "metadata": {},
   "outputs": [
    {
     "name": "stdout",
     "output_type": "stream",
     "text": [
      "Количество дубликатов: 413\n",
      "event_name 244121\n",
      "device_id 236575\n",
      "event_time 67472\n",
      "exp_id 244123\n"
     ]
    }
   ],
   "source": [
    "#проверка данных на наличие дубликатов\n",
    "print('Количество дубликатов:',df.duplicated().sum())\n",
    "for i in df.columns:\n",
    "    if df[i].duplicated().sum() > 0:\n",
    "        print(i, df[i].duplicated().sum())\n",
    "    else:\n",
    "        'good'"
   ]
  },
  {
   "cell_type": "markdown",
   "id": "fb5bdfb5",
   "metadata": {},
   "source": [
    "В данных есть повторяющиеся значения во всех столбцах и это нормально. Но есть дубликаты явные по всей таблице, их 413 штук. Их можно удалить, тк они занимают всего 0.169 % от всех данных."
   ]
  },
  {
   "cell_type": "code",
   "execution_count": 62,
   "id": "a61bdd14",
   "metadata": {},
   "outputs": [],
   "source": [
    "#удаление явных дубликатов\n",
    "df=df.drop_duplicates()"
   ]
  },
  {
   "cell_type": "code",
   "execution_count": 63,
   "id": "ff66a87d",
   "metadata": {},
   "outputs": [
    {
     "name": "stdout",
     "output_type": "stream",
     "text": [
      "Количество дубликатов: 0\n"
     ]
    }
   ],
   "source": [
    "#проверка удаления явных дубликатов\n",
    "print('Количество дубликатов:',df.duplicated().sum())"
   ]
  },
  {
   "cell_type": "markdown",
   "id": "5ccebc84",
   "metadata": {},
   "source": [
    "Теперь создадим два новых столбца. \n",
    "Один с датой и временем события, а другой с датой события."
   ]
  },
  {
   "cell_type": "code",
   "execution_count": 64,
   "id": "6caf50c2",
   "metadata": {},
   "outputs": [
    {
     "data": {
      "text/html": [
       "<div>\n",
       "<style scoped>\n",
       "    .dataframe tbody tr th:only-of-type {\n",
       "        vertical-align: middle;\n",
       "    }\n",
       "\n",
       "    .dataframe tbody tr th {\n",
       "        vertical-align: top;\n",
       "    }\n",
       "\n",
       "    .dataframe thead th {\n",
       "        text-align: right;\n",
       "    }\n",
       "</style>\n",
       "<table border=\"1\" class=\"dataframe\">\n",
       "  <thead>\n",
       "    <tr style=\"text-align: right;\">\n",
       "      <th></th>\n",
       "      <th>event_name</th>\n",
       "      <th>device_id</th>\n",
       "      <th>event_time</th>\n",
       "      <th>exp_id</th>\n",
       "      <th>time</th>\n",
       "    </tr>\n",
       "  </thead>\n",
       "  <tbody>\n",
       "    <tr>\n",
       "      <th>0</th>\n",
       "      <td>MainScreenAppear</td>\n",
       "      <td>4575588528974610257</td>\n",
       "      <td>1564029816</td>\n",
       "      <td>246</td>\n",
       "      <td>2019-07-25 04:43:36</td>\n",
       "    </tr>\n",
       "    <tr>\n",
       "      <th>1</th>\n",
       "      <td>MainScreenAppear</td>\n",
       "      <td>7416695313311560658</td>\n",
       "      <td>1564053102</td>\n",
       "      <td>246</td>\n",
       "      <td>2019-07-25 11:11:42</td>\n",
       "    </tr>\n",
       "    <tr>\n",
       "      <th>2</th>\n",
       "      <td>PaymentScreenSuccessful</td>\n",
       "      <td>3518123091307005509</td>\n",
       "      <td>1564054127</td>\n",
       "      <td>248</td>\n",
       "      <td>2019-07-25 11:28:47</td>\n",
       "    </tr>\n",
       "    <tr>\n",
       "      <th>3</th>\n",
       "      <td>CartScreenAppear</td>\n",
       "      <td>3518123091307005509</td>\n",
       "      <td>1564054127</td>\n",
       "      <td>248</td>\n",
       "      <td>2019-07-25 11:28:47</td>\n",
       "    </tr>\n",
       "    <tr>\n",
       "      <th>4</th>\n",
       "      <td>PaymentScreenSuccessful</td>\n",
       "      <td>6217807653094995999</td>\n",
       "      <td>1564055322</td>\n",
       "      <td>248</td>\n",
       "      <td>2019-07-25 11:48:42</td>\n",
       "    </tr>\n",
       "  </tbody>\n",
       "</table>\n",
       "</div>"
      ],
      "text/plain": [
       "                event_name            device_id  event_time  exp_id  \\\n",
       "0         MainScreenAppear  4575588528974610257  1564029816     246   \n",
       "1         MainScreenAppear  7416695313311560658  1564053102     246   \n",
       "2  PaymentScreenSuccessful  3518123091307005509  1564054127     248   \n",
       "3         CartScreenAppear  3518123091307005509  1564054127     248   \n",
       "4  PaymentScreenSuccessful  6217807653094995999  1564055322     248   \n",
       "\n",
       "                 time  \n",
       "0 2019-07-25 04:43:36  \n",
       "1 2019-07-25 11:11:42  \n",
       "2 2019-07-25 11:28:47  \n",
       "3 2019-07-25 11:28:47  \n",
       "4 2019-07-25 11:48:42  "
      ]
     },
     "execution_count": 64,
     "metadata": {},
     "output_type": "execute_result"
    }
   ],
   "source": [
    "#создание нового столбца с датой и временем события\n",
    "df['time']=pd.to_datetime(df['event_time'],unit='s')\n",
    "df.head()"
   ]
  },
  {
   "cell_type": "code",
   "execution_count": 65,
   "id": "80592330",
   "metadata": {},
   "outputs": [
    {
     "data": {
      "text/html": [
       "<div>\n",
       "<style scoped>\n",
       "    .dataframe tbody tr th:only-of-type {\n",
       "        vertical-align: middle;\n",
       "    }\n",
       "\n",
       "    .dataframe tbody tr th {\n",
       "        vertical-align: top;\n",
       "    }\n",
       "\n",
       "    .dataframe thead th {\n",
       "        text-align: right;\n",
       "    }\n",
       "</style>\n",
       "<table border=\"1\" class=\"dataframe\">\n",
       "  <thead>\n",
       "    <tr style=\"text-align: right;\">\n",
       "      <th></th>\n",
       "      <th>event_name</th>\n",
       "      <th>device_id</th>\n",
       "      <th>event_time</th>\n",
       "      <th>exp_id</th>\n",
       "      <th>time</th>\n",
       "      <th>date</th>\n",
       "    </tr>\n",
       "  </thead>\n",
       "  <tbody>\n",
       "    <tr>\n",
       "      <th>0</th>\n",
       "      <td>MainScreenAppear</td>\n",
       "      <td>4575588528974610257</td>\n",
       "      <td>1564029816</td>\n",
       "      <td>246</td>\n",
       "      <td>2019-07-25 04:43:36</td>\n",
       "      <td>2019-07-25</td>\n",
       "    </tr>\n",
       "    <tr>\n",
       "      <th>1</th>\n",
       "      <td>MainScreenAppear</td>\n",
       "      <td>7416695313311560658</td>\n",
       "      <td>1564053102</td>\n",
       "      <td>246</td>\n",
       "      <td>2019-07-25 11:11:42</td>\n",
       "      <td>2019-07-25</td>\n",
       "    </tr>\n",
       "    <tr>\n",
       "      <th>2</th>\n",
       "      <td>PaymentScreenSuccessful</td>\n",
       "      <td>3518123091307005509</td>\n",
       "      <td>1564054127</td>\n",
       "      <td>248</td>\n",
       "      <td>2019-07-25 11:28:47</td>\n",
       "      <td>2019-07-25</td>\n",
       "    </tr>\n",
       "    <tr>\n",
       "      <th>3</th>\n",
       "      <td>CartScreenAppear</td>\n",
       "      <td>3518123091307005509</td>\n",
       "      <td>1564054127</td>\n",
       "      <td>248</td>\n",
       "      <td>2019-07-25 11:28:47</td>\n",
       "      <td>2019-07-25</td>\n",
       "    </tr>\n",
       "    <tr>\n",
       "      <th>4</th>\n",
       "      <td>PaymentScreenSuccessful</td>\n",
       "      <td>6217807653094995999</td>\n",
       "      <td>1564055322</td>\n",
       "      <td>248</td>\n",
       "      <td>2019-07-25 11:48:42</td>\n",
       "      <td>2019-07-25</td>\n",
       "    </tr>\n",
       "  </tbody>\n",
       "</table>\n",
       "</div>"
      ],
      "text/plain": [
       "                event_name            device_id  event_time  exp_id  \\\n",
       "0         MainScreenAppear  4575588528974610257  1564029816     246   \n",
       "1         MainScreenAppear  7416695313311560658  1564053102     246   \n",
       "2  PaymentScreenSuccessful  3518123091307005509  1564054127     248   \n",
       "3         CartScreenAppear  3518123091307005509  1564054127     248   \n",
       "4  PaymentScreenSuccessful  6217807653094995999  1564055322     248   \n",
       "\n",
       "                 time       date  \n",
       "0 2019-07-25 04:43:36 2019-07-25  \n",
       "1 2019-07-25 11:11:42 2019-07-25  \n",
       "2 2019-07-25 11:28:47 2019-07-25  \n",
       "3 2019-07-25 11:28:47 2019-07-25  \n",
       "4 2019-07-25 11:48:42 2019-07-25  "
      ]
     },
     "execution_count": 65,
     "metadata": {},
     "output_type": "execute_result"
    }
   ],
   "source": [
    "#создание нового столбца с датой события\n",
    "df['date']=df['time'].dt.floor('D')\n",
    "df.head()"
   ]
  },
  {
   "cell_type": "markdown",
   "id": "9ae79f2c",
   "metadata": {},
   "source": [
    "Данные теперь готовы для дальнейшего анализа."
   ]
  },
  {
   "cell_type": "markdown",
   "id": "0e947428",
   "metadata": {},
   "source": [
    "## 3 Изучение и проверка данных\n",
    "<a id=\"analiz\"></a> "
   ]
  },
  {
   "cell_type": "markdown",
   "id": "5469f8a5",
   "metadata": {},
   "source": [
    "### 3.1 Подсчет количества всех событий\n",
    "<a id=\"cnt\"></a> "
   ]
  },
  {
   "cell_type": "code",
   "execution_count": 66,
   "id": "66fc9331",
   "metadata": {},
   "outputs": [
    {
     "data": {
      "text/plain": [
       "243713"
      ]
     },
     "execution_count": 66,
     "metadata": {},
     "output_type": "execute_result"
    }
   ],
   "source": [
    "#подсчет количества событий\n",
    "df['event_name'].count()"
   ]
  },
  {
   "cell_type": "code",
   "execution_count": 67,
   "id": "d5cc9cca",
   "metadata": {},
   "outputs": [
    {
     "data": {
      "text/plain": [
       "array(['MainScreenAppear', 'PaymentScreenSuccessful', 'CartScreenAppear',\n",
       "       'OffersScreenAppear', 'Tutorial'], dtype=object)"
      ]
     },
     "execution_count": 67,
     "metadata": {},
     "output_type": "execute_result"
    }
   ],
   "source": [
    "#вывод уникальных значений всех событий\n",
    "df['event_name'].unique()"
   ]
  },
  {
   "cell_type": "markdown",
   "id": "621adfa2",
   "metadata": {},
   "source": [
    "Всего 243 713 событий из них уникальные события: \n",
    "- MainScreenAppear (главный экран)\n",
    "- PaymentScreenSuccessful (старница успешной оплаты)\n",
    "- CartScreenAppear (корзина)\n",
    "- OffersScreenAppear (экран предложения) \n",
    "- Tutorial (руководство)"
   ]
  },
  {
   "cell_type": "markdown",
   "id": "43d13b2d",
   "metadata": {},
   "source": [
    "### 3.2 Подсчет количества пользователей\n",
    "<a id=\"users\"></a> "
   ]
  },
  {
   "cell_type": "code",
   "execution_count": 68,
   "id": "84c3c9b8",
   "metadata": {},
   "outputs": [
    {
     "data": {
      "text/plain": [
       "7551"
      ]
     },
     "execution_count": 68,
     "metadata": {},
     "output_type": "execute_result"
    }
   ],
   "source": [
    "#подсчет количества уникальных пользователей\n",
    "df['device_id'].nunique()"
   ]
  },
  {
   "cell_type": "markdown",
   "id": "d79f9f8e",
   "metadata": {},
   "source": [
    "Всего 7 551 уникальных пользователей."
   ]
  },
  {
   "cell_type": "markdown",
   "id": "b0b27322",
   "metadata": {},
   "source": [
    "### 3.3 Сколько в среднем событий приходится на одного пользователя\n",
    "<a id=\"mean\"></a> "
   ]
  },
  {
   "cell_type": "code",
   "execution_count": 69,
   "id": "45d2273d",
   "metadata": {},
   "outputs": [
    {
     "data": {
      "text/html": [
       "<div>\n",
       "<style scoped>\n",
       "    .dataframe tbody tr th:only-of-type {\n",
       "        vertical-align: middle;\n",
       "    }\n",
       "\n",
       "    .dataframe tbody tr th {\n",
       "        vertical-align: top;\n",
       "    }\n",
       "\n",
       "    .dataframe thead th {\n",
       "        text-align: right;\n",
       "    }\n",
       "</style>\n",
       "<table border=\"1\" class=\"dataframe\">\n",
       "  <thead>\n",
       "    <tr style=\"text-align: right;\">\n",
       "      <th></th>\n",
       "      <th>event_name</th>\n",
       "    </tr>\n",
       "    <tr>\n",
       "      <th>device_id</th>\n",
       "      <th></th>\n",
       "    </tr>\n",
       "  </thead>\n",
       "  <tbody>\n",
       "    <tr>\n",
       "      <th>6888746892508752</th>\n",
       "      <td>1</td>\n",
       "    </tr>\n",
       "    <tr>\n",
       "      <th>6909561520679493</th>\n",
       "      <td>5</td>\n",
       "    </tr>\n",
       "    <tr>\n",
       "      <th>6922444491712477</th>\n",
       "      <td>47</td>\n",
       "    </tr>\n",
       "    <tr>\n",
       "      <th>7435777799948366</th>\n",
       "      <td>6</td>\n",
       "    </tr>\n",
       "    <tr>\n",
       "      <th>7702139951469979</th>\n",
       "      <td>137</td>\n",
       "    </tr>\n",
       "  </tbody>\n",
       "</table>\n",
       "</div>"
      ],
      "text/plain": [
       "                  event_name\n",
       "device_id                   \n",
       "6888746892508752           1\n",
       "6909561520679493           5\n",
       "6922444491712477          47\n",
       "7435777799948366           6\n",
       "7702139951469979         137"
      ]
     },
     "execution_count": 69,
     "metadata": {},
     "output_type": "execute_result"
    }
   ],
   "source": [
    "#создание таблицы с уникальными пользователями и их количеством событий\n",
    "df_uniq_cnt=df.pivot_table(index='device_id', values='event_name', aggfunc='count')\n",
    "df_uniq_cnt.head()"
   ]
  },
  {
   "cell_type": "code",
   "execution_count": 70,
   "id": "caa5f520",
   "metadata": {},
   "outputs": [
    {
     "data": {
      "text/plain": [
       "32.27559263673685"
      ]
     },
     "execution_count": 70,
     "metadata": {},
     "output_type": "execute_result"
    }
   ],
   "source": [
    "#определение сколько в среднем приходится событий на одного пользователя\n",
    "df_uniq_cnt['event_name'].mean()"
   ]
  },
  {
   "cell_type": "code",
   "execution_count": 71,
   "id": "6ba4745c",
   "metadata": {},
   "outputs": [
    {
     "data": {
      "image/png": "[encoded data removed]",
      "text/plain": [
       "<Figure size 640x480 with 1 Axes>"
      ]
     },
     "metadata": {},
     "output_type": "display_data"
    }
   ],
   "source": [
    "#построение гистограммы \n",
    "plt.hist(df_uniq_cnt, bins=10, range=(0,200))\n",
    "plt.title('Количество событий, совершаемых одним пользователем')\n",
    "plt.xlabel('Количество событий')\n",
    "plt.ylabel('Количество пользователей')\n",
    "plt.show()"
   ]
  },
  {
   "cell_type": "markdown",
   "id": "d80b9ce2",
   "metadata": {},
   "source": [
    "Из расчета среднего видно, что в среднем пользователь совершает 32 события в мобильном приложении.\n",
    "А по гистограмме видно, что люди чаще всего совершают от 1 до 40 событий."
   ]
  },
  {
   "cell_type": "markdown",
   "id": "aa312356",
   "metadata": {},
   "source": [
    "### 3.4 Определение временного периода\n",
    "<a id=\"time\"></a> "
   ]
  },
  {
   "cell_type": "code",
   "execution_count": 72,
   "id": "6abec085",
   "metadata": {},
   "outputs": [
    {
     "data": {
      "text/plain": [
       "Timestamp('2019-07-25 00:00:00')"
      ]
     },
     "execution_count": 72,
     "metadata": {},
     "output_type": "execute_result"
    }
   ],
   "source": [
    "#определение минимальной даты\n",
    "df['date'].min()"
   ]
  },
  {
   "cell_type": "code",
   "execution_count": 73,
   "id": "2977da55",
   "metadata": {},
   "outputs": [
    {
     "data": {
      "text/plain": [
       "Timestamp('2019-08-07 00:00:00')"
      ]
     },
     "execution_count": 73,
     "metadata": {},
     "output_type": "execute_result"
    }
   ],
   "source": [
    "#определение максимальной даты\n",
    "df['date'].max()"
   ]
  },
  {
   "cell_type": "markdown",
   "id": "379ccea7",
   "metadata": {},
   "source": [
    "В итоге получается, что у нас есть данные за период с 25 июля 2019 года по 7 августа 2019 года."
   ]
  },
  {
   "cell_type": "code",
   "execution_count": 74,
   "id": "5f5d3392",
   "metadata": {},
   "outputs": [
    {
     "data": {
      "image/png": "[encoded data removed]",
      "text/plain": [
       "<Figure size 640x480 with 1 Axes>"
      ]
     },
     "metadata": {},
     "output_type": "display_data"
    }
   ],
   "source": [
    "#построение гистограммы для определения полноты данных по датам\n",
    "plt.hist(df['date'], bins=30)\n",
    "plt.xticks(df['date'].sort_values().unique(),rotation=90)\n",
    "plt.title('Количество пользователей по дням')\n",
    "plt.xlabel('Дата')\n",
    "plt.ylabel('Количество пользователей')\n",
    "plt.show()"
   ]
  },
  {
   "cell_type": "markdown",
   "id": "0b6d0188",
   "metadata": {},
   "source": [
    "По графику теперь видно, что у нас одинаково полные данные есть за период с 1 августа 2019 года по 7 августа 2019 года."
   ]
  },
  {
   "cell_type": "markdown",
   "id": "d09e7512",
   "metadata": {},
   "source": [
    "### 3.5 Определение сколько событий и пользователей потеряли, отбросив старые данные\n",
    "<a id=\"poteri\"></a> "
   ]
  },
  {
   "cell_type": "code",
   "execution_count": 75,
   "id": "a1e2ad34",
   "metadata": {},
   "outputs": [
    {
     "data": {
      "text/html": [
       "<div>\n",
       "<style scoped>\n",
       "    .dataframe tbody tr th:only-of-type {\n",
       "        vertical-align: middle;\n",
       "    }\n",
       "\n",
       "    .dataframe tbody tr th {\n",
       "        vertical-align: top;\n",
       "    }\n",
       "\n",
       "    .dataframe thead th {\n",
       "        text-align: right;\n",
       "    }\n",
       "</style>\n",
       "<table border=\"1\" class=\"dataframe\">\n",
       "  <thead>\n",
       "    <tr style=\"text-align: right;\">\n",
       "      <th></th>\n",
       "      <th>event_name</th>\n",
       "      <th>device_id</th>\n",
       "      <th>event_time</th>\n",
       "      <th>exp_id</th>\n",
       "      <th>time</th>\n",
       "      <th>date</th>\n",
       "    </tr>\n",
       "  </thead>\n",
       "  <tbody>\n",
       "    <tr>\n",
       "      <th>0</th>\n",
       "      <td>Tutorial</td>\n",
       "      <td>3737462046622621720</td>\n",
       "      <td>1564618048</td>\n",
       "      <td>246</td>\n",
       "      <td>2019-08-01 00:07:28</td>\n",
       "      <td>2019-08-01</td>\n",
       "    </tr>\n",
       "    <tr>\n",
       "      <th>1</th>\n",
       "      <td>MainScreenAppear</td>\n",
       "      <td>3737462046622621720</td>\n",
       "      <td>1564618080</td>\n",
       "      <td>246</td>\n",
       "      <td>2019-08-01 00:08:00</td>\n",
       "      <td>2019-08-01</td>\n",
       "    </tr>\n",
       "    <tr>\n",
       "      <th>2</th>\n",
       "      <td>MainScreenAppear</td>\n",
       "      <td>3737462046622621720</td>\n",
       "      <td>1564618135</td>\n",
       "      <td>246</td>\n",
       "      <td>2019-08-01 00:08:55</td>\n",
       "      <td>2019-08-01</td>\n",
       "    </tr>\n",
       "    <tr>\n",
       "      <th>3</th>\n",
       "      <td>OffersScreenAppear</td>\n",
       "      <td>3737462046622621720</td>\n",
       "      <td>1564618138</td>\n",
       "      <td>246</td>\n",
       "      <td>2019-08-01 00:08:58</td>\n",
       "      <td>2019-08-01</td>\n",
       "    </tr>\n",
       "    <tr>\n",
       "      <th>4</th>\n",
       "      <td>MainScreenAppear</td>\n",
       "      <td>1433840883824088890</td>\n",
       "      <td>1564618139</td>\n",
       "      <td>247</td>\n",
       "      <td>2019-08-01 00:08:59</td>\n",
       "      <td>2019-08-01</td>\n",
       "    </tr>\n",
       "  </tbody>\n",
       "</table>\n",
       "</div>"
      ],
      "text/plain": [
       "           event_name            device_id  event_time  exp_id  \\\n",
       "0            Tutorial  3737462046622621720  1564618048     246   \n",
       "1    MainScreenAppear  3737462046622621720  1564618080     246   \n",
       "2    MainScreenAppear  3737462046622621720  1564618135     246   \n",
       "3  OffersScreenAppear  3737462046622621720  1564618138     246   \n",
       "4    MainScreenAppear  1433840883824088890  1564618139     247   \n",
       "\n",
       "                 time       date  \n",
       "0 2019-08-01 00:07:28 2019-08-01  \n",
       "1 2019-08-01 00:08:00 2019-08-01  \n",
       "2 2019-08-01 00:08:55 2019-08-01  \n",
       "3 2019-08-01 00:08:58 2019-08-01  \n",
       "4 2019-08-01 00:08:59 2019-08-01  "
      ]
     },
     "execution_count": 75,
     "metadata": {},
     "output_type": "execute_result"
    }
   ],
   "source": [
    "#создание новой таблицы с данным с 2019-08-01 по 2019-08-07\n",
    "df_new=df.query('date >=\"2019-08-01\"').reset_index(drop=True)\n",
    "df_new.head()"
   ]
  },
  {
   "cell_type": "code",
   "execution_count": 76,
   "id": "179ee280",
   "metadata": {},
   "outputs": [
    {
     "data": {
      "text/plain": [
       "2826"
      ]
     },
     "execution_count": 76,
     "metadata": {},
     "output_type": "execute_result"
    }
   ],
   "source": [
    "#подсчет количества потерь событий после удаления старых данных\n",
    "df['event_name'].count()-df_new['event_name'].count()"
   ]
  },
  {
   "cell_type": "code",
   "execution_count": 77,
   "id": "ff18a4d8",
   "metadata": {},
   "outputs": [
    {
     "data": {
      "text/plain": [
       "1.1595606307418933"
      ]
     },
     "execution_count": 77,
     "metadata": {},
     "output_type": "execute_result"
    }
   ],
   "source": [
    "#расчет доли потерь в %\n",
    "100-(df_new['event_name'].count()*100/df['event_name'].count())"
   ]
  },
  {
   "cell_type": "code",
   "execution_count": 78,
   "id": "624dcc29",
   "metadata": {},
   "outputs": [
    {
     "data": {
      "text/plain": [
       "17"
      ]
     },
     "execution_count": 78,
     "metadata": {},
     "output_type": "execute_result"
    }
   ],
   "source": [
    "#подсчет количетсва потерь уникальных пользователей после удаления старых данных\n",
    "df['device_id'].nunique()-df_new['device_id'].nunique()"
   ]
  },
  {
   "cell_type": "code",
   "execution_count": 79,
   "id": "8a663d34",
   "metadata": {},
   "outputs": [
    {
     "data": {
      "text/plain": [
       "0.22513574361012445"
      ]
     },
     "execution_count": 79,
     "metadata": {},
     "output_type": "execute_result"
    }
   ],
   "source": [
    "#расчет доли потерь в %\n",
    "100-(df_new['device_id'].nunique()*100/df['device_id'].nunique())"
   ]
  },
  {
   "cell_type": "markdown",
   "id": "55909bd6",
   "metadata": {},
   "source": [
    "В итоге мы потеряли 2 826 событий и 17 пользователей, что не значительно по отношению ко всем данным."
   ]
  },
  {
   "cell_type": "markdown",
   "id": "601dc88b",
   "metadata": {},
   "source": [
    "### 3.6 Анализ пользователей по группам\n",
    "<a id=\"group\"></a> "
   ]
  },
  {
   "cell_type": "code",
   "execution_count": 80,
   "id": "280d21d6",
   "metadata": {},
   "outputs": [
    {
     "data": {
      "text/plain": [
       "2484"
      ]
     },
     "execution_count": 80,
     "metadata": {},
     "output_type": "execute_result"
    }
   ],
   "source": [
    "#подсчет количества уникальных пользователей в эксперименте 246\n",
    "id_a=df_new.query('exp_id == 246')\n",
    "id_a['device_id'].nunique()"
   ]
  },
  {
   "cell_type": "code",
   "execution_count": 81,
   "id": "ad4685a7",
   "metadata": {},
   "outputs": [
    {
     "data": {
      "text/plain": [
       "2513"
      ]
     },
     "execution_count": 81,
     "metadata": {},
     "output_type": "execute_result"
    }
   ],
   "source": [
    "#подсчет количества уникальных пользователей в эксперименте 247\n",
    "id_aa=df_new.query('exp_id == 247')\n",
    "id_aa['device_id'].nunique()"
   ]
  },
  {
   "cell_type": "code",
   "execution_count": 82,
   "id": "fa78c744",
   "metadata": {},
   "outputs": [
    {
     "data": {
      "text/plain": [
       "2537"
      ]
     },
     "execution_count": 82,
     "metadata": {},
     "output_type": "execute_result"
    }
   ],
   "source": [
    "#подсчет количества уникальных пользователей в эксперименте 248\n",
    "id_b=df_new.query('exp_id == 248')\n",
    "id_b['device_id'].nunique()"
   ]
  },
  {
   "cell_type": "markdown",
   "id": "32de4494",
   "metadata": {},
   "source": [
    "Теперь посмотрим есть ли пользователи, которые вошли в какую-то еще группу"
   ]
  },
  {
   "cell_type": "code",
   "execution_count": 83,
   "id": "62cce346",
   "metadata": {},
   "outputs": [
    {
     "data": {
      "text/html": [
       "<div>\n",
       "<style scoped>\n",
       "    .dataframe tbody tr th:only-of-type {\n",
       "        vertical-align: middle;\n",
       "    }\n",
       "\n",
       "    .dataframe tbody tr th {\n",
       "        vertical-align: top;\n",
       "    }\n",
       "\n",
       "    .dataframe thead th {\n",
       "        text-align: right;\n",
       "    }\n",
       "</style>\n",
       "<table border=\"1\" class=\"dataframe\">\n",
       "  <thead>\n",
       "    <tr style=\"text-align: right;\">\n",
       "      <th></th>\n",
       "      <th>exp_id</th>\n",
       "    </tr>\n",
       "    <tr>\n",
       "      <th>device_id</th>\n",
       "      <th></th>\n",
       "    </tr>\n",
       "  </thead>\n",
       "  <tbody>\n",
       "  </tbody>\n",
       "</table>\n",
       "</div>"
      ],
      "text/plain": [
       "Empty DataFrame\n",
       "Columns: [exp_id]\n",
       "Index: []"
      ]
     },
     "execution_count": 83,
     "metadata": {},
     "output_type": "execute_result"
    }
   ],
   "source": [
    "#проверка пользователей, которые могли попасть в несколько групп \n",
    "df_new.groupby('device_id').agg({'exp_id':'nunique'}).query('exp_id > 1') "
   ]
  },
  {
   "cell_type": "markdown",
   "id": "bed3563b",
   "metadata": {},
   "source": [
    "В итоге получается, что у нас нет пользователей, которые попали еще в другие группы, поэтому можем спокойно переходить к дальнейшему анализу данных."
   ]
  },
  {
   "cell_type": "markdown",
   "id": "b6b8b742",
   "metadata": {},
   "source": [
    "## 4 Изучение воронки событий\n",
    "<a id=\"voronka\"></a> "
   ]
  },
  {
   "cell_type": "markdown",
   "id": "7f9bb3fb",
   "metadata": {},
   "source": [
    "### 4.1 Определение частоты каждого события\n",
    "<a id=\"share\"></a> "
   ]
  },
  {
   "cell_type": "code",
   "execution_count": 84,
   "id": "93aedc6a",
   "metadata": {},
   "outputs": [
    {
     "data": {
      "text/html": [
       "<div>\n",
       "<style scoped>\n",
       "    .dataframe tbody tr th:only-of-type {\n",
       "        vertical-align: middle;\n",
       "    }\n",
       "\n",
       "    .dataframe tbody tr th {\n",
       "        vertical-align: top;\n",
       "    }\n",
       "\n",
       "    .dataframe thead th {\n",
       "        text-align: right;\n",
       "    }\n",
       "</style>\n",
       "<table border=\"1\" class=\"dataframe\">\n",
       "  <thead>\n",
       "    <tr style=\"text-align: right;\">\n",
       "      <th></th>\n",
       "      <th>device_id</th>\n",
       "    </tr>\n",
       "    <tr>\n",
       "      <th>event_name</th>\n",
       "      <th></th>\n",
       "    </tr>\n",
       "  </thead>\n",
       "  <tbody>\n",
       "    <tr>\n",
       "      <th>MainScreenAppear</th>\n",
       "      <td>117328</td>\n",
       "    </tr>\n",
       "    <tr>\n",
       "      <th>OffersScreenAppear</th>\n",
       "      <td>46333</td>\n",
       "    </tr>\n",
       "    <tr>\n",
       "      <th>CartScreenAppear</th>\n",
       "      <td>42303</td>\n",
       "    </tr>\n",
       "    <tr>\n",
       "      <th>PaymentScreenSuccessful</th>\n",
       "      <td>33918</td>\n",
       "    </tr>\n",
       "    <tr>\n",
       "      <th>Tutorial</th>\n",
       "      <td>1005</td>\n",
       "    </tr>\n",
       "  </tbody>\n",
       "</table>\n",
       "</div>"
      ],
      "text/plain": [
       "                         device_id\n",
       "event_name                        \n",
       "MainScreenAppear            117328\n",
       "OffersScreenAppear           46333\n",
       "CartScreenAppear             42303\n",
       "PaymentScreenSuccessful      33918\n",
       "Tutorial                      1005"
      ]
     },
     "execution_count": 84,
     "metadata": {},
     "output_type": "execute_result"
    }
   ],
   "source": [
    "#создание таблицы для подсчета частоты события \n",
    "event=df_new.pivot_table(index='event_name', values='device_id', aggfunc='count').sort_values(by='device_id', ascending=False)\n",
    "event"
   ]
  },
  {
   "cell_type": "markdown",
   "id": "6cdcd467",
   "metadata": {},
   "source": [
    "Из этой таблицы видно, что чаще всего люди заходят на главный экран (MainScreenAppear), затем 39.5% из них переходят на экран предложений(OffersScreenAppear), далее пользователи преходят в корзину(CartScreenAppear) и только 33 918 человек переходят на страницу успешной оплаты(PaymentScreenSuccessful). В руководство заходило всего 1 005 пользователей."
   ]
  },
  {
   "cell_type": "markdown",
   "id": "128c9adb",
   "metadata": {},
   "source": [
    "### 4.2 Подсчет количества пользователей, совершивших каждое из событий\n",
    "<a id=\"count\"></a> "
   ]
  },
  {
   "cell_type": "code",
   "execution_count": 85,
   "id": "94d42aff",
   "metadata": {},
   "outputs": [
    {
     "data": {
      "text/html": [
       "<div>\n",
       "<style scoped>\n",
       "    .dataframe tbody tr th:only-of-type {\n",
       "        vertical-align: middle;\n",
       "    }\n",
       "\n",
       "    .dataframe tbody tr th {\n",
       "        vertical-align: top;\n",
       "    }\n",
       "\n",
       "    .dataframe thead th {\n",
       "        text-align: right;\n",
       "    }\n",
       "</style>\n",
       "<table border=\"1\" class=\"dataframe\">\n",
       "  <thead>\n",
       "    <tr style=\"text-align: right;\">\n",
       "      <th>event_name</th>\n",
       "      <th>device_id</th>\n",
       "      <th>CartScreenAppear</th>\n",
       "      <th>MainScreenAppear</th>\n",
       "      <th>OffersScreenAppear</th>\n",
       "      <th>PaymentScreenSuccessful</th>\n",
       "      <th>Tutorial</th>\n",
       "    </tr>\n",
       "  </thead>\n",
       "  <tbody>\n",
       "    <tr>\n",
       "      <th>0</th>\n",
       "      <td>6888746892508752</td>\n",
       "      <td>NaN</td>\n",
       "      <td>1.0</td>\n",
       "      <td>NaN</td>\n",
       "      <td>NaN</td>\n",
       "      <td>NaN</td>\n",
       "    </tr>\n",
       "    <tr>\n",
       "      <th>1</th>\n",
       "      <td>6909561520679493</td>\n",
       "      <td>1.0</td>\n",
       "      <td>2.0</td>\n",
       "      <td>1.0</td>\n",
       "      <td>1.0</td>\n",
       "      <td>NaN</td>\n",
       "    </tr>\n",
       "    <tr>\n",
       "      <th>2</th>\n",
       "      <td>6922444491712477</td>\n",
       "      <td>8.0</td>\n",
       "      <td>19.0</td>\n",
       "      <td>12.0</td>\n",
       "      <td>8.0</td>\n",
       "      <td>NaN</td>\n",
       "    </tr>\n",
       "    <tr>\n",
       "      <th>3</th>\n",
       "      <td>7435777799948366</td>\n",
       "      <td>NaN</td>\n",
       "      <td>6.0</td>\n",
       "      <td>NaN</td>\n",
       "      <td>NaN</td>\n",
       "      <td>NaN</td>\n",
       "    </tr>\n",
       "    <tr>\n",
       "      <th>4</th>\n",
       "      <td>7702139951469979</td>\n",
       "      <td>5.0</td>\n",
       "      <td>40.0</td>\n",
       "      <td>87.0</td>\n",
       "      <td>5.0</td>\n",
       "      <td>NaN</td>\n",
       "    </tr>\n",
       "    <tr>\n",
       "      <th>5</th>\n",
       "      <td>8486814028069281</td>\n",
       "      <td>4.0</td>\n",
       "      <td>4.0</td>\n",
       "      <td>2.0</td>\n",
       "      <td>NaN</td>\n",
       "      <td>NaN</td>\n",
       "    </tr>\n",
       "    <tr>\n",
       "      <th>6</th>\n",
       "      <td>8740973466195562</td>\n",
       "      <td>NaN</td>\n",
       "      <td>8.0</td>\n",
       "      <td>1.0</td>\n",
       "      <td>NaN</td>\n",
       "      <td>NaN</td>\n",
       "    </tr>\n",
       "    <tr>\n",
       "      <th>7</th>\n",
       "      <td>9841258664663090</td>\n",
       "      <td>8.0</td>\n",
       "      <td>10.0</td>\n",
       "      <td>8.0</td>\n",
       "      <td>2.0</td>\n",
       "      <td>1.0</td>\n",
       "    </tr>\n",
       "    <tr>\n",
       "      <th>8</th>\n",
       "      <td>12692216027168046</td>\n",
       "      <td>NaN</td>\n",
       "      <td>7.0</td>\n",
       "      <td>3.0</td>\n",
       "      <td>NaN</td>\n",
       "      <td>NaN</td>\n",
       "    </tr>\n",
       "    <tr>\n",
       "      <th>9</th>\n",
       "      <td>15708180189885246</td>\n",
       "      <td>38.0</td>\n",
       "      <td>27.0</td>\n",
       "      <td>38.0</td>\n",
       "      <td>23.0</td>\n",
       "      <td>NaN</td>\n",
       "    </tr>\n",
       "  </tbody>\n",
       "</table>\n",
       "</div>"
      ],
      "text/plain": [
       "event_name          device_id  CartScreenAppear  MainScreenAppear  \\\n",
       "0            6888746892508752               NaN               1.0   \n",
       "1            6909561520679493               1.0               2.0   \n",
       "2            6922444491712477               8.0              19.0   \n",
       "3            7435777799948366               NaN               6.0   \n",
       "4            7702139951469979               5.0              40.0   \n",
       "5            8486814028069281               4.0               4.0   \n",
       "6            8740973466195562               NaN               8.0   \n",
       "7            9841258664663090               8.0              10.0   \n",
       "8           12692216027168046               NaN               7.0   \n",
       "9           15708180189885246              38.0              27.0   \n",
       "\n",
       "event_name  OffersScreenAppear  PaymentScreenSuccessful  Tutorial  \n",
       "0                          NaN                      NaN       NaN  \n",
       "1                          1.0                      1.0       NaN  \n",
       "2                         12.0                      8.0       NaN  \n",
       "3                          NaN                      NaN       NaN  \n",
       "4                         87.0                      5.0       NaN  \n",
       "5                          2.0                      NaN       NaN  \n",
       "6                          1.0                      NaN       NaN  \n",
       "7                          8.0                      2.0       1.0  \n",
       "8                          3.0                      NaN       NaN  \n",
       "9                         38.0                     23.0       NaN  "
      ]
     },
     "execution_count": 85,
     "metadata": {},
     "output_type": "execute_result"
    }
   ],
   "source": [
    "#создание новой таблицы \n",
    "ev_vse=df_new.pivot_table(index='device_id',columns='event_name', values='date', aggfunc='count').reset_index()\n",
    "ev_vse.head(10)"
   ]
  },
  {
   "cell_type": "code",
   "execution_count": 86,
   "id": "0d7de5f6",
   "metadata": {},
   "outputs": [
    {
     "data": {
      "text/plain": [
       "7534"
      ]
     },
     "execution_count": 86,
     "metadata": {},
     "output_type": "execute_result"
    }
   ],
   "source": [
    "#подсчет уникальных пользователей\n",
    "uniq=ev_vse['device_id'].nunique()\n",
    "uniq"
   ]
  },
  {
   "cell_type": "code",
   "execution_count": 87,
   "id": "c4baee2d",
   "metadata": {},
   "outputs": [
    {
     "data": {
      "text/plain": [
       "466"
      ]
     },
     "execution_count": 87,
     "metadata": {},
     "output_type": "execute_result"
    }
   ],
   "source": [
    "#удаление пропусков и подсчет уникальных пользователей, совершавших каждое из событий\n",
    "ev_vse=ev_vse.dropna().reset_index(drop=True)\n",
    "ev_vse['device_id'].nunique()"
   ]
  },
  {
   "cell_type": "markdown",
   "id": "e5ed41de",
   "metadata": {},
   "source": [
    "Данный анализ говорит, что только 466 уникальных пользователей совершили каждое из событий из 7 534 уникальных пользователей, принявших участие в А/А/В-тесте."
   ]
  },
  {
   "cell_type": "markdown",
   "id": "a680aaaf",
   "metadata": {},
   "source": [
    "### 4.3 Подсчет доли пользователей, которые хоть раз совершали событие\n",
    "<a id=\"event\"></a> "
   ]
  },
  {
   "cell_type": "code",
   "execution_count": 88,
   "id": "7e7f304f",
   "metadata": {},
   "outputs": [],
   "source": [
    "#создание сводной таблицы\n",
    "event_uniq= (df_new.pivot_table(index='event_name', values='device_id', aggfunc='nunique')\n",
    "             .sort_values(by='device_id', ascending=False)\n",
    "            )"
   ]
  },
  {
   "cell_type": "code",
   "execution_count": 89,
   "id": "79d65269",
   "metadata": {},
   "outputs": [
    {
     "data": {
      "text/html": [
       "<div>\n",
       "<style scoped>\n",
       "    .dataframe tbody tr th:only-of-type {\n",
       "        vertical-align: middle;\n",
       "    }\n",
       "\n",
       "    .dataframe tbody tr th {\n",
       "        vertical-align: top;\n",
       "    }\n",
       "\n",
       "    .dataframe thead th {\n",
       "        text-align: right;\n",
       "    }\n",
       "</style>\n",
       "<table border=\"1\" class=\"dataframe\">\n",
       "  <thead>\n",
       "    <tr style=\"text-align: right;\">\n",
       "      <th></th>\n",
       "      <th>event_name</th>\n",
       "      <th>device_id</th>\n",
       "      <th>share</th>\n",
       "    </tr>\n",
       "  </thead>\n",
       "  <tbody>\n",
       "    <tr>\n",
       "      <th>0</th>\n",
       "      <td>MainScreenAppear</td>\n",
       "      <td>7419</td>\n",
       "      <td>98.47</td>\n",
       "    </tr>\n",
       "    <tr>\n",
       "      <th>1</th>\n",
       "      <td>OffersScreenAppear</td>\n",
       "      <td>4593</td>\n",
       "      <td>60.96</td>\n",
       "    </tr>\n",
       "    <tr>\n",
       "      <th>2</th>\n",
       "      <td>CartScreenAppear</td>\n",
       "      <td>3734</td>\n",
       "      <td>49.56</td>\n",
       "    </tr>\n",
       "    <tr>\n",
       "      <th>3</th>\n",
       "      <td>PaymentScreenSuccessful</td>\n",
       "      <td>3539</td>\n",
       "      <td>46.97</td>\n",
       "    </tr>\n",
       "    <tr>\n",
       "      <th>4</th>\n",
       "      <td>Tutorial</td>\n",
       "      <td>840</td>\n",
       "      <td>11.15</td>\n",
       "    </tr>\n",
       "  </tbody>\n",
       "</table>\n",
       "</div>"
      ],
      "text/plain": [
       "                event_name  device_id  share\n",
       "0         MainScreenAppear       7419  98.47\n",
       "1       OffersScreenAppear       4593  60.96\n",
       "2         CartScreenAppear       3734  49.56\n",
       "3  PaymentScreenSuccessful       3539  46.97\n",
       "4                 Tutorial        840  11.15"
      ]
     },
     "execution_count": 89,
     "metadata": {},
     "output_type": "execute_result"
    }
   ],
   "source": [
    "#создание нового столбца, который покажет долю пользователей, которые хоть раз совершали событие\n",
    "event_uniq['share']=((event_uniq['device_id']/uniq)*100).round(2)\n",
    "event_uniq.reset_index()"
   ]
  },
  {
   "cell_type": "markdown",
   "id": "dddff11a",
   "metadata": {},
   "source": [
    "### 4.4 Предположение в каком порядке происходят события\n",
    "<a id=\"por\"></a> "
   ]
  },
  {
   "cell_type": "markdown",
   "id": "4af06ae3",
   "metadata": {},
   "source": [
    "Проанализировав данные можно предположить, что сначала люди заходят на главную страницу мобильного приложения(Main Screen Appear), затем переходят на экран предложения(Offers Screen Appear), затем в корзину (Cart Screen Appear), а после оплаты они попадают на страницу успешной оплаты (Payment Screen Successful). В руководства люди заходят редко и это может произойти в любой момент, поэтому дальнейшую воронку событий можно сделать без этого события."
   ]
  },
  {
   "cell_type": "markdown",
   "id": "bc9522cc",
   "metadata": {},
   "source": [
    "### 4.5 Подсчет доли пользователей, переходящих на следующий шаг воронки\n",
    "<a id=\"share_vor\"></a> "
   ]
  },
  {
   "cell_type": "code",
   "execution_count": 90,
   "id": "d2983c2e",
   "metadata": {},
   "outputs": [
    {
     "data": {
      "text/html": [
       "<div>\n",
       "<style scoped>\n",
       "    .dataframe tbody tr th:only-of-type {\n",
       "        vertical-align: middle;\n",
       "    }\n",
       "\n",
       "    .dataframe tbody tr th {\n",
       "        vertical-align: top;\n",
       "    }\n",
       "\n",
       "    .dataframe thead th {\n",
       "        text-align: right;\n",
       "    }\n",
       "</style>\n",
       "<table border=\"1\" class=\"dataframe\">\n",
       "  <thead>\n",
       "    <tr style=\"text-align: right;\">\n",
       "      <th></th>\n",
       "      <th>device_id</th>\n",
       "      <th>share</th>\n",
       "    </tr>\n",
       "    <tr>\n",
       "      <th>event_name</th>\n",
       "      <th></th>\n",
       "      <th></th>\n",
       "    </tr>\n",
       "  </thead>\n",
       "  <tbody>\n",
       "    <tr>\n",
       "      <th>MainScreenAppear</th>\n",
       "      <td>7419</td>\n",
       "      <td>98.47</td>\n",
       "    </tr>\n",
       "    <tr>\n",
       "      <th>OffersScreenAppear</th>\n",
       "      <td>4593</td>\n",
       "      <td>60.96</td>\n",
       "    </tr>\n",
       "    <tr>\n",
       "      <th>CartScreenAppear</th>\n",
       "      <td>3734</td>\n",
       "      <td>49.56</td>\n",
       "    </tr>\n",
       "    <tr>\n",
       "      <th>PaymentScreenSuccessful</th>\n",
       "      <td>3539</td>\n",
       "      <td>46.97</td>\n",
       "    </tr>\n",
       "  </tbody>\n",
       "</table>\n",
       "</div>"
      ],
      "text/plain": [
       "                         device_id  share\n",
       "event_name                               \n",
       "MainScreenAppear              7419  98.47\n",
       "OffersScreenAppear            4593  60.96\n",
       "CartScreenAppear              3734  49.56\n",
       "PaymentScreenSuccessful       3539  46.97"
      ]
     },
     "execution_count": 90,
     "metadata": {},
     "output_type": "execute_result"
    }
   ],
   "source": [
    "#создание таблицы без события tutorial\n",
    "event_uniq=event_uniq.query('event_name != \"Tutorial\"')\n",
    "event_uniq"
   ]
  },
  {
   "cell_type": "code",
   "execution_count": 91,
   "id": "fa3d33af",
   "metadata": {},
   "outputs": [
    {
     "data": {
      "application/vnd.plotly.v1+json": {
       "config": {
        "plotlyServerURL": "https://plot.ly"
       },
       "data": [
        {
         "connector": {
          "line": {
           "width": 0.2
          }
         },
         "textinfo": "value+percent previous",
         "type": "funnel",
         "x": [
          7419,
          4593,
          3734,
          3539
         ],
         "y": [
          "MainScreenAppear",
          "OffersScreenAppear",
          "CartScreenAppear",
          "PaymentScreenSuccessful"
         ]
        }
       ],
       "layout": {
        "template": {
         "data": {
          "bar": [
           {
            "error_x": {
             "color": "#2a3f5f"
            },
            "error_y": {
             "color": "#2a3f5f"
            },
            "marker": {
             "line": {
              "color": "#E5ECF6",
              "width": 0.5
             },
             "pattern": {
              "fillmode": "overlay",
              "size": 10,
              "solidity": 0.2
             }
            },
            "type": "bar"
           }
          ],
          "barpolar": [
           {
            "marker": {
             "line": {
              "color": "#E5ECF6",
              "width": 0.5
             },
             "pattern": {
              "fillmode": "overlay",
              "size": 10,
              "solidity": 0.2
             }
            },
            "type": "barpolar"
           }
          ],
          "carpet": [
           {
            "aaxis": {
             "endlinecolor": "#2a3f5f",
             "gridcolor": "white",
             "linecolor": "white",
             "minorgridcolor": "white",
             "startlinecolor": "#2a3f5f"
            },
            "baxis": {
             "endlinecolor": "#2a3f5f",
             "gridcolor": "white",
             "linecolor": "white",
             "minorgridcolor": "white",
             "startlinecolor": "#2a3f5f"
            },
            "type": "carpet"
           }
          ],
          "choropleth": [
           {
            "colorbar": {
             "outlinewidth": 0,
             "ticks": ""
            },
            "type": "choropleth"
           }
          ],
          "contour": [
           {
            "colorbar": {
             "outlinewidth": 0,
             "ticks": ""
            },
            "colorscale": [
             [
              0,
              "#0d0887"
             ],
             [
              0.1111111111111111,
              "#46039f"
             ],
             [
              0.2222222222222222,
              "#7201a8"
             ],
             [
              0.3333333333333333,
              "#9c179e"
             ],
             [
              0.4444444444444444,
              "#bd3786"
             ],
             [
              0.5555555555555556,
              "#d8576b"
             ],
             [
              0.6666666666666666,
              "#ed7953"
             ],
             [
              0.7777777777777778,
              "#fb9f3a"
             ],
             [
              0.8888888888888888,
              "#fdca26"
             ],
             [
              1,
              "#f0f921"
             ]
            ],
            "type": "contour"
           }
          ],
          "contourcarpet": [
           {
            "colorbar": {
             "outlinewidth": 0,
             "ticks": ""
            },
            "type": "contourcarpet"
           }
          ],
          "heatmap": [
           {
            "colorbar": {
             "outlinewidth": 0,
             "ticks": ""
            },
            "colorscale": [
             [
              0,
              "#0d0887"
             ],
             [
              0.1111111111111111,
              "#46039f"
             ],
             [
              0.2222222222222222,
              "#7201a8"
             ],
             [
              0.3333333333333333,
              "#9c179e"
             ],
             [
              0.4444444444444444,
              "#bd3786"
             ],
             [
              0.5555555555555556,
              "#d8576b"
             ],
             [
              0.6666666666666666,
              "#ed7953"
             ],
             [
              0.7777777777777778,
              "#fb9f3a"
             ],
             [
              0.8888888888888888,
              "#fdca26"
             ],
             [
              1,
              "#f0f921"
             ]
            ],
            "type": "heatmap"
           }
          ],
          "heatmapgl": [
           {
            "colorbar": {
             "outlinewidth": 0,
             "ticks": ""
            },
            "colorscale": [
             [
              0,
              "#0d0887"
             ],
             [
              0.1111111111111111,
              "#46039f"
             ],
             [
              0.2222222222222222,
              "#7201a8"
             ],
             [
              0.3333333333333333,
              "#9c179e"
             ],
             [
              0.4444444444444444,
              "#bd3786"
             ],
             [
              0.5555555555555556,
              "#d8576b"
             ],
             [
              0.6666666666666666,
              "#ed7953"
             ],
             [
              0.7777777777777778,
              "#fb9f3a"
             ],
             [
              0.8888888888888888,
              "#fdca26"
             ],
             [
              1,
              "#f0f921"
             ]
            ],
            "type": "heatmapgl"
           }
          ],
          "histogram": [
           {
            "marker": {
             "pattern": {
              "fillmode": "overlay",
              "size": 10,
              "solidity": 0.2
             }
            },
            "type": "histogram"
           }
          ],
          "histogram2d": [
           {
            "colorbar": {
             "outlinewidth": 0,
             "ticks": ""
            },
            "colorscale": [
             [
              0,
              "#0d0887"
             ],
             [
              0.1111111111111111,
              "#46039f"
             ],
             [
              0.2222222222222222,
              "#7201a8"
             ],
             [
              0.3333333333333333,
              "#9c179e"
             ],
             [
              0.4444444444444444,
              "#bd3786"
             ],
             [
              0.5555555555555556,
              "#d8576b"
             ],
             [
              0.6666666666666666,
              "#ed7953"
             ],
             [
              0.7777777777777778,
              "#fb9f3a"
             ],
             [
              0.8888888888888888,
              "#fdca26"
             ],
             [
              1,
              "#f0f921"
             ]
            ],
            "type": "histogram2d"
           }
          ],
          "histogram2dcontour": [
           {
            "colorbar": {
             "outlinewidth": 0,
             "ticks": ""
            },
            "colorscale": [
             [
              0,
              "#0d0887"
             ],
             [
              0.1111111111111111,
              "#46039f"
             ],
             [
              0.2222222222222222,
              "#7201a8"
             ],
             [
              0.3333333333333333,
              "#9c179e"
             ],
             [
              0.4444444444444444,
              "#bd3786"
             ],
             [
              0.5555555555555556,
              "#d8576b"
             ],
             [
              0.6666666666666666,
              "#ed7953"
             ],
             [
              0.7777777777777778,
              "#fb9f3a"
             ],
             [
              0.8888888888888888,
              "#fdca26"
             ],
             [
              1,
              "#f0f921"
             ]
            ],
            "type": "histogram2dcontour"
           }
          ],
          "mesh3d": [
           {
            "colorbar": {
             "outlinewidth": 0,
             "ticks": ""
            },
            "type": "mesh3d"
           }
          ],
          "parcoords": [
           {
            "line": {
             "colorbar": {
              "outlinewidth": 0,
              "ticks": ""
             }
            },
            "type": "parcoords"
           }
          ],
          "pie": [
           {
            "automargin": true,
            "type": "pie"
           }
          ],
          "scatter": [
           {
            "fillpattern": {
             "fillmode": "overlay",
             "size": 10,
             "solidity": 0.2
            },
            "type": "scatter"
           }
          ],
          "scatter3d": [
           {
            "line": {
             "colorbar": {
              "outlinewidth": 0,
              "ticks": ""
             }
            },
            "marker": {
             "colorbar": {
              "outlinewidth": 0,
              "ticks": ""
             }
            },
            "type": "scatter3d"
           }
          ],
          "scattercarpet": [
           {
            "marker": {
             "colorbar": {
              "outlinewidth": 0,
              "ticks": ""
             }
            },
            "type": "scattercarpet"
           }
          ],
          "scattergeo": [
           {
            "marker": {
             "colorbar": {
              "outlinewidth": 0,
              "ticks": ""
             }
            },
            "type": "scattergeo"
           }
          ],
          "scattergl": [
           {
            "marker": {
             "colorbar": {
              "outlinewidth": 0,
              "ticks": ""
             }
            },
            "type": "scattergl"
           }
          ],
          "scattermapbox": [
           {
            "marker": {
             "colorbar": {
              "outlinewidth": 0,
              "ticks": ""
             }
            },
            "type": "scattermapbox"
           }
          ],
          "scatterpolar": [
           {
            "marker": {
             "colorbar": {
              "outlinewidth": 0,
              "ticks": ""
             }
            },
            "type": "scatterpolar"
           }
          ],
          "scatterpolargl": [
           {
            "marker": {
             "colorbar": {
              "outlinewidth": 0,
              "ticks": ""
             }
            },
            "type": "scatterpolargl"
           }
          ],
          "scatterternary": [
           {
            "marker": {
             "colorbar": {
              "outlinewidth": 0,
              "ticks": ""
             }
            },
            "type": "scatterternary"
           }
          ],
          "surface": [
           {
            "colorbar": {
             "outlinewidth": 0,
             "ticks": ""
            },
            "colorscale": [
             [
              0,
              "#0d0887"
             ],
             [
              0.1111111111111111,
              "#46039f"
             ],
             [
              0.2222222222222222,
              "#7201a8"
             ],
             [
              0.3333333333333333,
              "#9c179e"
             ],
             [
              0.4444444444444444,
              "#bd3786"
             ],
             [
              0.5555555555555556,
              "#d8576b"
             ],
             [
              0.6666666666666666,
              "#ed7953"
             ],
             [
              0.7777777777777778,
              "#fb9f3a"
             ],
             [
              0.8888888888888888,
              "#fdca26"
             ],
             [
              1,
              "#f0f921"
             ]
            ],
            "type": "surface"
           }
          ],
          "table": [
           {
            "cells": {
             "fill": {
              "color": "#EBF0F8"
             },
             "line": {
              "color": "white"
             }
            },
            "header": {
             "fill": {
              "color": "#C8D4E3"
             },
             "line": {
              "color": "white"
             }
            },
            "type": "table"
           }
          ]
         },
         "layout": {
          "annotationdefaults": {
           "arrowcolor": "#2a3f5f",
           "arrowhead": 0,
           "arrowwidth": 1
          },
          "autotypenumbers": "strict",
          "coloraxis": {
           "colorbar": {
            "outlinewidth": 0,
            "ticks": ""
           }
          },
          "colorscale": {
           "diverging": [
            [
             0,
             "#8e0152"
            ],
            [
             0.1,
             "#c51b7d"
            ],
            [
             0.2,
             "#de77ae"
            ],
            [
             0.3,
             "#f1b6da"
            ],
            [
             0.4,
             "#fde0ef"
            ],
            [
             0.5,
             "#f7f7f7"
            ],
            [
             0.6,
             "#e6f5d0"
            ],
            [
             0.7,
             "#b8e186"
            ],
            [
             0.8,
             "#7fbc41"
            ],
            [
             0.9,
             "#4d9221"
            ],
            [
             1,
             "#276419"
            ]
           ],
           "sequential": [
            [
             0,
             "#0d0887"
            ],
            [
             0.1111111111111111,
             "#46039f"
            ],
            [
             0.2222222222222222,
             "#7201a8"
            ],
            [
             0.3333333333333333,
             "#9c179e"
            ],
            [
             0.4444444444444444,
             "#bd3786"
            ],
            [
             0.5555555555555556,
             "#d8576b"
            ],
            [
             0.6666666666666666,
             "#ed7953"
            ],
            [
             0.7777777777777778,
             "#fb9f3a"
            ],
            [
             0.8888888888888888,
             "#fdca26"
            ],
            [
             1,
             "#f0f921"
            ]
           ],
           "sequentialminus": [
            [
             0,
             "#0d0887"
            ],
            [
             0.1111111111111111,
             "#46039f"
            ],
            [
             0.2222222222222222,
             "#7201a8"
            ],
            [
             0.3333333333333333,
             "#9c179e"
            ],
            [
             0.4444444444444444,
             "#bd3786"
            ],
            [
             0.5555555555555556,
             "#d8576b"
            ],
            [
             0.6666666666666666,
             "#ed7953"
            ],
            [
             0.7777777777777778,
             "#fb9f3a"
            ],
            [
             0.8888888888888888,
             "#fdca26"
            ],
            [
             1,
             "#f0f921"
            ]
           ]
          },
          "colorway": [
           "#636efa",
           "#EF553B",
           "#00cc96",
           "#ab63fa",
           "#FFA15A",
           "#19d3f3",
           "#FF6692",
           "#B6E880",
           "#FF97FF",
           "#FECB52"
          ],
          "font": {
           "color": "#2a3f5f"
          },
          "geo": {
           "bgcolor": "white",
           "lakecolor": "white",
           "landcolor": "#E5ECF6",
           "showlakes": true,
           "showland": true,
           "subunitcolor": "white"
          },
          "hoverlabel": {
           "align": "left"
          },
          "hovermode": "closest",
          "mapbox": {
           "style": "light"
          },
          "paper_bgcolor": "white",
          "plot_bgcolor": "#E5ECF6",
          "polar": {
           "angularaxis": {
            "gridcolor": "white",
            "linecolor": "white",
            "ticks": ""
           },
           "bgcolor": "#E5ECF6",
           "radialaxis": {
            "gridcolor": "white",
            "linecolor": "white",
            "ticks": ""
           }
          },
          "scene": {
           "xaxis": {
            "backgroundcolor": "#E5ECF6",
            "gridcolor": "white",
            "gridwidth": 2,
            "linecolor": "white",
            "showbackground": true,
            "ticks": "",
            "zerolinecolor": "white"
           },
           "yaxis": {
            "backgroundcolor": "#E5ECF6",
            "gridcolor": "white",
            "gridwidth": 2,
            "linecolor": "white",
            "showbackground": true,
            "ticks": "",
            "zerolinecolor": "white"
           },
           "zaxis": {
            "backgroundcolor": "#E5ECF6",
            "gridcolor": "white",
            "gridwidth": 2,
            "linecolor": "white",
            "showbackground": true,
            "ticks": "",
            "zerolinecolor": "white"
           }
          },
          "shapedefaults": {
           "line": {
            "color": "#2a3f5f"
           }
          },
          "ternary": {
           "aaxis": {
            "gridcolor": "white",
            "linecolor": "white",
            "ticks": ""
           },
           "baxis": {
            "gridcolor": "white",
            "linecolor": "white",
            "ticks": ""
           },
           "bgcolor": "#E5ECF6",
           "caxis": {
            "gridcolor": "white",
            "linecolor": "white",
            "ticks": ""
           }
          },
          "title": {
           "x": 0.05
          },
          "xaxis": {
           "automargin": true,
           "gridcolor": "white",
           "linecolor": "white",
           "ticks": "",
           "title": {
            "standoff": 15
           },
           "zerolinecolor": "white",
           "zerolinewidth": 2
          },
          "yaxis": {
           "automargin": true,
           "gridcolor": "white",
           "linecolor": "white",
           "ticks": "",
           "title": {
            "standoff": 15
           },
           "zerolinecolor": "white",
           "zerolinewidth": 2
          }
         }
        },
        "title": {
         "text": "Доля пользователей, переходящих с одного события на следующее"
        }
       }
      },
      "text/html": [
       "<div>                            <div id=\"0022215c-2ceb-4c25-989b-97e1060a5827\" class=\"plotly-graph-div\" style=\"height:525px; width:100%;\"></div>            <script type=\"text/javascript\">                require([\"plotly\"], function(Plotly) {                    window.PLOTLYENV=window.PLOTLYENV || {};                                    if (document.getElementById(\"0022215c-2ceb-4c25-989b-97e1060a5827\")) {                    Plotly.newPlot(                        \"0022215c-2ceb-4c25-989b-97e1060a5827\",                        [{\"connector\":{\"line\":{\"width\":0.2}},\"textinfo\":\"value+percent previous\",\"x\":[7419,4593,3734,3539],\"y\":[\"MainScreenAppear\",\"OffersScreenAppear\",\"CartScreenAppear\",\"PaymentScreenSuccessful\"],\"type\":\"funnel\"}],                        {\"template\":{\"data\":{\"histogram2dcontour\":[{\"type\":\"histogram2dcontour\",\"colorbar\":{\"outlinewidth\":0,\"ticks\":\"\"},\"colorscale\":[[0.0,\"#0d0887\"],[0.1111111111111111,\"#46039f\"],[0.2222222222222222,\"#7201a8\"],[0.3333333333333333,\"#9c179e\"],[0.4444444444444444,\"#bd3786\"],[0.5555555555555556,\"#d8576b\"],[0.6666666666666666,\"#ed7953\"],[0.7777777777777778,\"#fb9f3a\"],[0.8888888888888888,\"#fdca26\"],[1.0,\"#f0f921\"]]}],\"choropleth\":[{\"type\":\"choropleth\",\"colorbar\":{\"outlinewidth\":0,\"ticks\":\"\"}}],\"histogram2d\":[{\"type\":\"histogram2d\",\"colorbar\":{\"outlinewidth\":0,\"ticks\":\"\"},\"colorscale\":[[0.0,\"#0d0887\"],[0.1111111111111111,\"#46039f\"],[0.2222222222222222,\"#7201a8\"],[0.3333333333333333,\"#9c179e\"],[0.4444444444444444,\"#bd3786\"],[0.5555555555555556,\"#d8576b\"],[0.6666666666666666,\"#ed7953\"],[0.7777777777777778,\"#fb9f3a\"],[0.8888888888888888,\"#fdca26\"],[1.0,\"#f0f921\"]]}],\"heatmap\":[{\"type\":\"heatmap\",\"colorbar\":{\"outlinewidth\":0,\"ticks\":\"\"},\"colorscale\":[[0.0,\"#0d0887\"],[0.1111111111111111,\"#46039f\"],[0.2222222222222222,\"#7201a8\"],[0.3333333333333333,\"#9c179e\"],[0.4444444444444444,\"#bd3786\"],[0.5555555555555556,\"#d8576b\"],[0.6666666666666666,\"#ed7953\"],[0.7777777777777778,\"#fb9f3a\"],[0.8888888888888888,\"#fdca26\"],[1.0,\"#f0f921\"]]}],\"heatmapgl\":[{\"type\":\"heatmapgl\",\"colorbar\":{\"outlinewidth\":0,\"ticks\":\"\"},\"colorscale\":[[0.0,\"#0d0887\"],[0.1111111111111111,\"#46039f\"],[0.2222222222222222,\"#7201a8\"],[0.3333333333333333,\"#9c179e\"],[0.4444444444444444,\"#bd3786\"],[0.5555555555555556,\"#d8576b\"],[0.6666666666666666,\"#ed7953\"],[0.7777777777777778,\"#fb9f3a\"],[0.8888888888888888,\"#fdca26\"],[1.0,\"#f0f921\"]]}],\"contourcarpet\":[{\"type\":\"contourcarpet\",\"colorbar\":{\"outlinewidth\":0,\"ticks\":\"\"}}],\"contour\":[{\"type\":\"contour\",\"colorbar\":{\"outlinewidth\":0,\"ticks\":\"\"},\"colorscale\":[[0.0,\"#0d0887\"],[0.1111111111111111,\"#46039f\"],[0.2222222222222222,\"#7201a8\"],[0.3333333333333333,\"#9c179e\"],[0.4444444444444444,\"#bd3786\"],[0.5555555555555556,\"#d8576b\"],[0.6666666666666666,\"#ed7953\"],[0.7777777777777778,\"#fb9f3a\"],[0.8888888888888888,\"#fdca26\"],[1.0,\"#f0f921\"]]}],\"surface\":[{\"type\":\"surface\",\"colorbar\":{\"outlinewidth\":0,\"ticks\":\"\"},\"colorscale\":[[0.0,\"#0d0887\"],[0.1111111111111111,\"#46039f\"],[0.2222222222222222,\"#7201a8\"],[0.3333333333333333,\"#9c179e\"],[0.4444444444444444,\"#bd3786\"],[0.5555555555555556,\"#d8576b\"],[0.6666666666666666,\"#ed7953\"],[0.7777777777777778,\"#fb9f3a\"],[0.8888888888888888,\"#fdca26\"],[1.0,\"#f0f921\"]]}],\"mesh3d\":[{\"type\":\"mesh3d\",\"colorbar\":{\"outlinewidth\":0,\"ticks\":\"\"}}],\"scatter\":[{\"fillpattern\":{\"fillmode\":\"overlay\",\"size\":10,\"solidity\":0.2},\"type\":\"scatter\"}],\"parcoords\":[{\"type\":\"parcoords\",\"line\":{\"colorbar\":{\"outlinewidth\":0,\"ticks\":\"\"}}}],\"scatterpolargl\":[{\"type\":\"scatterpolargl\",\"marker\":{\"colorbar\":{\"outlinewidth\":0,\"ticks\":\"\"}}}],\"bar\":[{\"error_x\":{\"color\":\"#2a3f5f\"},\"error_y\":{\"color\":\"#2a3f5f\"},\"marker\":{\"line\":{\"color\":\"#E5ECF6\",\"width\":0.5},\"pattern\":{\"fillmode\":\"overlay\",\"size\":10,\"solidity\":0.2}},\"type\":\"bar\"}],\"scattergeo\":[{\"type\":\"scattergeo\",\"marker\":{\"colorbar\":{\"outlinewidth\":0,\"ticks\":\"\"}}}],\"scatterpolar\":[{\"type\":\"scatterpolar\",\"marker\":{\"colorbar\":{\"outlinewidth\":0,\"ticks\":\"\"}}}],\"histogram\":[{\"marker\":{\"pattern\":{\"fillmode\":\"overlay\",\"size\":10,\"solidity\":0.2}},\"type\":\"histogram\"}],\"scattergl\":[{\"type\":\"scattergl\",\"marker\":{\"colorbar\":{\"outlinewidth\":0,\"ticks\":\"\"}}}],\"scatter3d\":[{\"type\":\"scatter3d\",\"line\":{\"colorbar\":{\"outlinewidth\":0,\"ticks\":\"\"}},\"marker\":{\"colorbar\":{\"outlinewidth\":0,\"ticks\":\"\"}}}],\"scattermapbox\":[{\"type\":\"scattermapbox\",\"marker\":{\"colorbar\":{\"outlinewidth\":0,\"ticks\":\"\"}}}],\"scatterternary\":[{\"type\":\"scatterternary\",\"marker\":{\"colorbar\":{\"outlinewidth\":0,\"ticks\":\"\"}}}],\"scattercarpet\":[{\"type\":\"scattercarpet\",\"marker\":{\"colorbar\":{\"outlinewidth\":0,\"ticks\":\"\"}}}],\"carpet\":[{\"aaxis\":{\"endlinecolor\":\"#2a3f5f\",\"gridcolor\":\"white\",\"linecolor\":\"white\",\"minorgridcolor\":\"white\",\"startlinecolor\":\"#2a3f5f\"},\"baxis\":{\"endlinecolor\":\"#2a3f5f\",\"gridcolor\":\"white\",\"linecolor\":\"white\",\"minorgridcolor\":\"white\",\"startlinecolor\":\"#2a3f5f\"},\"type\":\"carpet\"}],\"table\":[{\"cells\":{\"fill\":{\"color\":\"#EBF0F8\"},\"line\":{\"color\":\"white\"}},\"header\":{\"fill\":{\"color\":\"#C8D4E3\"},\"line\":{\"color\":\"white\"}},\"type\":\"table\"}],\"barpolar\":[{\"marker\":{\"line\":{\"color\":\"#E5ECF6\",\"width\":0.5},\"pattern\":{\"fillmode\":\"overlay\",\"size\":10,\"solidity\":0.2}},\"type\":\"barpolar\"}],\"pie\":[{\"automargin\":true,\"type\":\"pie\"}]},\"layout\":{\"autotypenumbers\":\"strict\",\"colorway\":[\"#636efa\",\"#EF553B\",\"#00cc96\",\"#ab63fa\",\"#FFA15A\",\"#19d3f3\",\"#FF6692\",\"#B6E880\",\"#FF97FF\",\"#FECB52\"],\"font\":{\"color\":\"#2a3f5f\"},\"hovermode\":\"closest\",\"hoverlabel\":{\"align\":\"left\"},\"paper_bgcolor\":\"white\",\"plot_bgcolor\":\"#E5ECF6\",\"polar\":{\"bgcolor\":\"#E5ECF6\",\"angularaxis\":{\"gridcolor\":\"white\",\"linecolor\":\"white\",\"ticks\":\"\"},\"radialaxis\":{\"gridcolor\":\"white\",\"linecolor\":\"white\",\"ticks\":\"\"}},\"ternary\":{\"bgcolor\":\"#E5ECF6\",\"aaxis\":{\"gridcolor\":\"white\",\"linecolor\":\"white\",\"ticks\":\"\"},\"baxis\":{\"gridcolor\":\"white\",\"linecolor\":\"white\",\"ticks\":\"\"},\"caxis\":{\"gridcolor\":\"white\",\"linecolor\":\"white\",\"ticks\":\"\"}},\"coloraxis\":{\"colorbar\":{\"outlinewidth\":0,\"ticks\":\"\"}},\"colorscale\":{\"sequential\":[[0.0,\"#0d0887\"],[0.1111111111111111,\"#46039f\"],[0.2222222222222222,\"#7201a8\"],[0.3333333333333333,\"#9c179e\"],[0.4444444444444444,\"#bd3786\"],[0.5555555555555556,\"#d8576b\"],[0.6666666666666666,\"#ed7953\"],[0.7777777777777778,\"#fb9f3a\"],[0.8888888888888888,\"#fdca26\"],[1.0,\"#f0f921\"]],\"sequentialminus\":[[0.0,\"#0d0887\"],[0.1111111111111111,\"#46039f\"],[0.2222222222222222,\"#7201a8\"],[0.3333333333333333,\"#9c179e\"],[0.4444444444444444,\"#bd3786\"],[0.5555555555555556,\"#d8576b\"],[0.6666666666666666,\"#ed7953\"],[0.7777777777777778,\"#fb9f3a\"],[0.8888888888888888,\"#fdca26\"],[1.0,\"#f0f921\"]],\"diverging\":[[0,\"#8e0152\"],[0.1,\"#c51b7d\"],[0.2,\"#de77ae\"],[0.3,\"#f1b6da\"],[0.4,\"#fde0ef\"],[0.5,\"#f7f7f7\"],[0.6,\"#e6f5d0\"],[0.7,\"#b8e186\"],[0.8,\"#7fbc41\"],[0.9,\"#4d9221\"],[1,\"#276419\"]]},\"xaxis\":{\"gridcolor\":\"white\",\"linecolor\":\"white\",\"ticks\":\"\",\"title\":{\"standoff\":15},\"zerolinecolor\":\"white\",\"automargin\":true,\"zerolinewidth\":2},\"yaxis\":{\"gridcolor\":\"white\",\"linecolor\":\"white\",\"ticks\":\"\",\"title\":{\"standoff\":15},\"zerolinecolor\":\"white\",\"automargin\":true,\"zerolinewidth\":2},\"scene\":{\"xaxis\":{\"backgroundcolor\":\"#E5ECF6\",\"gridcolor\":\"white\",\"linecolor\":\"white\",\"showbackground\":true,\"ticks\":\"\",\"zerolinecolor\":\"white\",\"gridwidth\":2},\"yaxis\":{\"backgroundcolor\":\"#E5ECF6\",\"gridcolor\":\"white\",\"linecolor\":\"white\",\"showbackground\":true,\"ticks\":\"\",\"zerolinecolor\":\"white\",\"gridwidth\":2},\"zaxis\":{\"backgroundcolor\":\"#E5ECF6\",\"gridcolor\":\"white\",\"linecolor\":\"white\",\"showbackground\":true,\"ticks\":\"\",\"zerolinecolor\":\"white\",\"gridwidth\":2}},\"shapedefaults\":{\"line\":{\"color\":\"#2a3f5f\"}},\"annotationdefaults\":{\"arrowcolor\":\"#2a3f5f\",\"arrowhead\":0,\"arrowwidth\":1},\"geo\":{\"bgcolor\":\"white\",\"landcolor\":\"#E5ECF6\",\"subunitcolor\":\"white\",\"showland\":true,\"showlakes\":true,\"lakecolor\":\"white\"},\"title\":{\"x\":0.05},\"mapbox\":{\"style\":\"light\"}}},\"title\":{\"text\":\"\\u0414\\u043e\\u043b\\u044f \\u043f\\u043e\\u043b\\u044c\\u0437\\u043e\\u0432\\u0430\\u0442\\u0435\\u043b\\u0435\\u0439, \\u043f\\u0435\\u0440\\u0435\\u0445\\u043e\\u0434\\u044f\\u0449\\u0438\\u0445 \\u0441 \\u043e\\u0434\\u043d\\u043e\\u0433\\u043e \\u0441\\u043e\\u0431\\u044b\\u0442\\u0438\\u044f \\u043d\\u0430 \\u0441\\u043b\\u0435\\u0434\\u0443\\u044e\\u0449\\u0435\\u0435\"}},                        {\"responsive\": true}                    ).then(function(){\n",
       "                            \n",
       "var gd = document.getElementById('0022215c-2ceb-4c25-989b-97e1060a5827');\n",
       "var x = new MutationObserver(function (mutations, observer) {{\n",
       "        var display = window.getComputedStyle(gd).display;\n",
       "        if (!display || display === 'none') {{\n",
       "            console.log([gd, 'removed!']);\n",
       "            Plotly.purge(gd);\n",
       "            observer.disconnect();\n",
       "        }}\n",
       "}});\n",
       "\n",
       "// Listen for the removal of the full notebook cells\n",
       "var notebookContainer = gd.closest('#notebook-container');\n",
       "if (notebookContainer) {{\n",
       "    x.observe(notebookContainer, {childList: true});\n",
       "}}\n",
       "\n",
       "// Listen for the clearing of the current output cell\n",
       "var outputEl = gd.closest('.output');\n",
       "if (outputEl) {{\n",
       "    x.observe(outputEl, {childList: true});\n",
       "}}\n",
       "\n",
       "                        })                };                });            </script>        </div>"
      ]
     },
     "metadata": {},
     "output_type": "display_data"
    }
   ],
   "source": [
    "#написание кода для создания диаграммы, показывающей долю пользователей, переходящих на следующее событие \n",
    "fig = go.Figure(go.Funnel(\n",
    "    #определение параметра у\n",
    "    y =['MainScreenAppear', 'OffersScreenAppear', 'CartScreenAppear', 'PaymentScreenSuccessful'],\n",
    "    #определение параметра х\n",
    "    x = event_uniq['device_id'],\n",
    "    #определение информации, которая будет выводиться, нас интересует процентное отношение последующего события к пердыдущему\n",
    "    textinfo = 'value+percent previous',\n",
    "    #настройка ширины линии\n",
    "    connector = {'line': {'width': 0.2}})\n",
    "    )\n",
    "fig.update_layout(title='Доля пользователей, переходящих с одного события на следующее') \n",
    "fig.show()"
   ]
  },
  {
   "cell_type": "markdown",
   "id": "f1f2eb44",
   "metadata": {},
   "source": [
    "По диаграмме видно , что 38% пользователей отсеиваются на первом событии и не делают следующий шаг(самый большой показатель отсеивания). После второго события отсеивается 19% пользователей, а из этих пользователей только 5% не переходят на страницу успешной оплаты заказа, то есть передумывают совершать покупку или у них возникла какая-то ошибка при оплате. "
   ]
  },
  {
   "cell_type": "markdown",
   "id": "c8894ddc",
   "metadata": {},
   "source": [
    "### 4.6 Подсчет доли пользователей, которые проходят путь от первого события до оплаты\n",
    "<a id=\"one\"></a> "
   ]
  },
  {
   "cell_type": "code",
   "execution_count": 92,
   "id": "eb14e6bd",
   "metadata": {},
   "outputs": [],
   "source": [
    "#делаем срез данных\n",
    "way=df_new.query('event_name != \"Tutorial\"')"
   ]
  },
  {
   "cell_type": "code",
   "execution_count": 93,
   "id": "c4a33938",
   "metadata": {},
   "outputs": [
    {
     "data": {
      "text/html": [
       "<div>\n",
       "<style scoped>\n",
       "    .dataframe tbody tr th:only-of-type {\n",
       "        vertical-align: middle;\n",
       "    }\n",
       "\n",
       "    .dataframe tbody tr th {\n",
       "        vertical-align: top;\n",
       "    }\n",
       "\n",
       "    .dataframe thead th {\n",
       "        text-align: right;\n",
       "    }\n",
       "</style>\n",
       "<table border=\"1\" class=\"dataframe\">\n",
       "  <thead>\n",
       "    <tr style=\"text-align: right;\">\n",
       "      <th>event_name</th>\n",
       "      <th>device_id</th>\n",
       "      <th>CartScreenAppear</th>\n",
       "      <th>MainScreenAppear</th>\n",
       "      <th>OffersScreenAppear</th>\n",
       "      <th>PaymentScreenSuccessful</th>\n",
       "    </tr>\n",
       "  </thead>\n",
       "  <tbody>\n",
       "    <tr>\n",
       "      <th>0</th>\n",
       "      <td>6888746892508752</td>\n",
       "      <td>NaT</td>\n",
       "      <td>2019-08-06 14:06:34</td>\n",
       "      <td>NaT</td>\n",
       "      <td>NaT</td>\n",
       "    </tr>\n",
       "    <tr>\n",
       "      <th>1</th>\n",
       "      <td>6909561520679493</td>\n",
       "      <td>2019-08-06 18:52:58</td>\n",
       "      <td>2019-08-06 18:52:54</td>\n",
       "      <td>2019-08-06 18:53:04</td>\n",
       "      <td>2019-08-06 18:52:58</td>\n",
       "    </tr>\n",
       "    <tr>\n",
       "      <th>2</th>\n",
       "      <td>6922444491712477</td>\n",
       "      <td>2019-08-04 14:19:40</td>\n",
       "      <td>2019-08-04 14:19:33</td>\n",
       "      <td>2019-08-04 14:19:46</td>\n",
       "      <td>2019-08-04 14:19:40</td>\n",
       "    </tr>\n",
       "    <tr>\n",
       "      <th>3</th>\n",
       "      <td>7435777799948366</td>\n",
       "      <td>NaT</td>\n",
       "      <td>2019-08-05 08:06:34</td>\n",
       "      <td>NaT</td>\n",
       "      <td>NaT</td>\n",
       "    </tr>\n",
       "    <tr>\n",
       "      <th>4</th>\n",
       "      <td>7702139951469979</td>\n",
       "      <td>2019-08-02 14:28:45</td>\n",
       "      <td>2019-08-01 04:29:54</td>\n",
       "      <td>2019-08-01 04:29:56</td>\n",
       "      <td>2019-08-02 14:28:45</td>\n",
       "    </tr>\n",
       "  </tbody>\n",
       "</table>\n",
       "</div>"
      ],
      "text/plain": [
       "event_name         device_id    CartScreenAppear    MainScreenAppear  \\\n",
       "0           6888746892508752                 NaT 2019-08-06 14:06:34   \n",
       "1           6909561520679493 2019-08-06 18:52:58 2019-08-06 18:52:54   \n",
       "2           6922444491712477 2019-08-04 14:19:40 2019-08-04 14:19:33   \n",
       "3           7435777799948366                 NaT 2019-08-05 08:06:34   \n",
       "4           7702139951469979 2019-08-02 14:28:45 2019-08-01 04:29:54   \n",
       "\n",
       "event_name  OffersScreenAppear PaymentScreenSuccessful  \n",
       "0                          NaT                     NaT  \n",
       "1          2019-08-06 18:53:04     2019-08-06 18:52:58  \n",
       "2          2019-08-04 14:19:46     2019-08-04 14:19:40  \n",
       "3                          NaT                     NaT  \n",
       "4          2019-08-01 04:29:56     2019-08-02 14:28:45  "
      ]
     },
     "execution_count": 93,
     "metadata": {},
     "output_type": "execute_result"
    }
   ],
   "source": [
    "#построение новой таблицы \n",
    "way=way.pivot_table(index='device_id',columns='event_name', values='time', aggfunc='min').reset_index()\n",
    "way.head()"
   ]
  },
  {
   "cell_type": "code",
   "execution_count": 94,
   "id": "13a8ed72",
   "metadata": {},
   "outputs": [
    {
     "data": {
      "text/plain": [
       "7419"
      ]
     },
     "execution_count": 94,
     "metadata": {},
     "output_type": "execute_result"
    }
   ],
   "source": [
    "#вывод количества пользователей с первого события \n",
    "cnt_1=way['MainScreenAppear'].count()\n",
    "cnt_1"
   ]
  },
  {
   "cell_type": "code",
   "execution_count": 95,
   "id": "e33dfe09",
   "metadata": {},
   "outputs": [
    {
     "data": {
      "text/html": [
       "<div>\n",
       "<style scoped>\n",
       "    .dataframe tbody tr th:only-of-type {\n",
       "        vertical-align: middle;\n",
       "    }\n",
       "\n",
       "    .dataframe tbody tr th {\n",
       "        vertical-align: top;\n",
       "    }\n",
       "\n",
       "    .dataframe thead th {\n",
       "        text-align: right;\n",
       "    }\n",
       "</style>\n",
       "<table border=\"1\" class=\"dataframe\">\n",
       "  <thead>\n",
       "    <tr style=\"text-align: right;\">\n",
       "      <th>event_name</th>\n",
       "      <th>device_id</th>\n",
       "      <th>CartScreenAppear</th>\n",
       "      <th>MainScreenAppear</th>\n",
       "      <th>OffersScreenAppear</th>\n",
       "      <th>PaymentScreenSuccessful</th>\n",
       "    </tr>\n",
       "  </thead>\n",
       "  <tbody>\n",
       "    <tr>\n",
       "      <th>0</th>\n",
       "      <td>6909561520679493</td>\n",
       "      <td>2019-08-06 18:52:58</td>\n",
       "      <td>2019-08-06 18:52:54</td>\n",
       "      <td>2019-08-06 18:53:04</td>\n",
       "      <td>2019-08-06 18:52:58</td>\n",
       "    </tr>\n",
       "    <tr>\n",
       "      <th>1</th>\n",
       "      <td>6922444491712477</td>\n",
       "      <td>2019-08-04 14:19:40</td>\n",
       "      <td>2019-08-04 14:19:33</td>\n",
       "      <td>2019-08-04 14:19:46</td>\n",
       "      <td>2019-08-04 14:19:40</td>\n",
       "    </tr>\n",
       "    <tr>\n",
       "      <th>2</th>\n",
       "      <td>7702139951469979</td>\n",
       "      <td>2019-08-02 14:28:45</td>\n",
       "      <td>2019-08-01 04:29:54</td>\n",
       "      <td>2019-08-01 04:29:56</td>\n",
       "      <td>2019-08-02 14:28:45</td>\n",
       "    </tr>\n",
       "    <tr>\n",
       "      <th>3</th>\n",
       "      <td>9841258664663090</td>\n",
       "      <td>2019-08-03 10:52:15</td>\n",
       "      <td>2019-08-03 10:47:59</td>\n",
       "      <td>2019-08-03 10:49:42</td>\n",
       "      <td>2019-08-03 17:57:27</td>\n",
       "    </tr>\n",
       "    <tr>\n",
       "      <th>4</th>\n",
       "      <td>15708180189885246</td>\n",
       "      <td>2019-08-01 11:06:19</td>\n",
       "      <td>2019-08-01 16:08:23</td>\n",
       "      <td>2019-08-01 05:38:55</td>\n",
       "      <td>2019-08-01 11:06:19</td>\n",
       "    </tr>\n",
       "  </tbody>\n",
       "</table>\n",
       "</div>"
      ],
      "text/plain": [
       "event_name          device_id    CartScreenAppear    MainScreenAppear  \\\n",
       "0            6909561520679493 2019-08-06 18:52:58 2019-08-06 18:52:54   \n",
       "1            6922444491712477 2019-08-04 14:19:40 2019-08-04 14:19:33   \n",
       "2            7702139951469979 2019-08-02 14:28:45 2019-08-01 04:29:54   \n",
       "3            9841258664663090 2019-08-03 10:52:15 2019-08-03 10:47:59   \n",
       "4           15708180189885246 2019-08-01 11:06:19 2019-08-01 16:08:23   \n",
       "\n",
       "event_name  OffersScreenAppear PaymentScreenSuccessful  \n",
       "0          2019-08-06 18:53:04     2019-08-06 18:52:58  \n",
       "1          2019-08-04 14:19:46     2019-08-04 14:19:40  \n",
       "2          2019-08-01 04:29:56     2019-08-02 14:28:45  \n",
       "3          2019-08-03 10:49:42     2019-08-03 17:57:27  \n",
       "4          2019-08-01 05:38:55     2019-08-01 11:06:19  "
      ]
     },
     "execution_count": 95,
     "metadata": {},
     "output_type": "execute_result"
    }
   ],
   "source": [
    "#удаление строк с пропусками и создание новой переменной\n",
    "way1=way.dropna().reset_index(drop=True)\n",
    "way1.head()"
   ]
  },
  {
   "cell_type": "markdown",
   "id": "c719e90e",
   "metadata": {},
   "source": [
    "Проанализировав первые строки таблицы видно, что не все пользователи идут по тому пути, который мы предположили. Но мы все равно посчитаем, сколько людей дошли от первого события до оплаты по нашему предположенному пути."
   ]
  },
  {
   "cell_type": "code",
   "execution_count": 96,
   "id": "3ab4f7e1",
   "metadata": {},
   "outputs": [
    {
     "data": {
      "text/html": [
       "<div>\n",
       "<style scoped>\n",
       "    .dataframe tbody tr th:only-of-type {\n",
       "        vertical-align: middle;\n",
       "    }\n",
       "\n",
       "    .dataframe tbody tr th {\n",
       "        vertical-align: top;\n",
       "    }\n",
       "\n",
       "    .dataframe thead th {\n",
       "        text-align: right;\n",
       "    }\n",
       "</style>\n",
       "<table border=\"1\" class=\"dataframe\">\n",
       "  <thead>\n",
       "    <tr style=\"text-align: right;\">\n",
       "      <th>event_name</th>\n",
       "      <th>device_id</th>\n",
       "      <th>CartScreenAppear</th>\n",
       "      <th>MainScreenAppear</th>\n",
       "      <th>OffersScreenAppear</th>\n",
       "      <th>PaymentScreenSuccessful</th>\n",
       "    </tr>\n",
       "  </thead>\n",
       "  <tbody>\n",
       "    <tr>\n",
       "      <th>3</th>\n",
       "      <td>9841258664663090</td>\n",
       "      <td>2019-08-03 10:52:15</td>\n",
       "      <td>2019-08-03 10:47:59</td>\n",
       "      <td>2019-08-03 10:49:42</td>\n",
       "      <td>2019-08-03 17:57:27</td>\n",
       "    </tr>\n",
       "    <tr>\n",
       "      <th>8</th>\n",
       "      <td>29094035245869447</td>\n",
       "      <td>2019-08-02 13:15:22</td>\n",
       "      <td>2019-08-02 13:13:24</td>\n",
       "      <td>2019-08-02 13:13:43</td>\n",
       "      <td>2019-08-02 15:23:05</td>\n",
       "    </tr>\n",
       "    <tr>\n",
       "      <th>28</th>\n",
       "      <td>84107839139059565</td>\n",
       "      <td>2019-08-03 15:15:43</td>\n",
       "      <td>2019-08-03 15:13:41</td>\n",
       "      <td>2019-08-03 15:15:17</td>\n",
       "      <td>2019-08-03 15:16:18</td>\n",
       "    </tr>\n",
       "    <tr>\n",
       "      <th>44</th>\n",
       "      <td>116683309485180923</td>\n",
       "      <td>2019-08-02 07:18:54</td>\n",
       "      <td>2019-08-01 19:42:38</td>\n",
       "      <td>2019-08-01 19:47:36</td>\n",
       "      <td>2019-08-02 07:20:44</td>\n",
       "    </tr>\n",
       "    <tr>\n",
       "      <th>47</th>\n",
       "      <td>133486548927612375</td>\n",
       "      <td>2019-08-03 10:30:25</td>\n",
       "      <td>2019-08-03 10:28:43</td>\n",
       "      <td>2019-08-03 10:29:47</td>\n",
       "      <td>2019-08-04 10:23:26</td>\n",
       "    </tr>\n",
       "  </tbody>\n",
       "</table>\n",
       "</div>"
      ],
      "text/plain": [
       "event_name           device_id    CartScreenAppear    MainScreenAppear  \\\n",
       "3             9841258664663090 2019-08-03 10:52:15 2019-08-03 10:47:59   \n",
       "8            29094035245869447 2019-08-02 13:15:22 2019-08-02 13:13:24   \n",
       "28           84107839139059565 2019-08-03 15:15:43 2019-08-03 15:13:41   \n",
       "44          116683309485180923 2019-08-02 07:18:54 2019-08-01 19:42:38   \n",
       "47          133486548927612375 2019-08-03 10:30:25 2019-08-03 10:28:43   \n",
       "\n",
       "event_name  OffersScreenAppear PaymentScreenSuccessful  \n",
       "3          2019-08-03 10:49:42     2019-08-03 17:57:27  \n",
       "8          2019-08-02 13:13:43     2019-08-02 15:23:05  \n",
       "28         2019-08-03 15:15:17     2019-08-03 15:16:18  \n",
       "44         2019-08-01 19:47:36     2019-08-02 07:20:44  \n",
       "47         2019-08-03 10:29:47     2019-08-04 10:23:26  "
      ]
     },
     "execution_count": 96,
     "metadata": {},
     "output_type": "execute_result"
    }
   ],
   "source": [
    "#делаем срез данных по выбранному нами пути.\n",
    "event_4=way1.query('(OffersScreenAppear > MainScreenAppear) and (CartScreenAppear> OffersScreenAppear) and (PaymentScreenSuccessful> CartScreenAppear)')\n",
    "event_4.head()"
   ]
  },
  {
   "cell_type": "code",
   "execution_count": 97,
   "id": "b28ff55b",
   "metadata": {},
   "outputs": [
    {
     "data": {
      "text/plain": [
       "454"
      ]
     },
     "execution_count": 97,
     "metadata": {},
     "output_type": "execute_result"
    }
   ],
   "source": [
    "#подсчет количества пользователей, которые прошли весь пути, который мы предположили.\n",
    "cnt_4=event_4['device_id'].count()\n",
    "cnt_4"
   ]
  },
  {
   "cell_type": "code",
   "execution_count": 98,
   "id": "3bfa6caf",
   "metadata": {},
   "outputs": [
    {
     "data": {
      "text/plain": [
       "6.12"
      ]
     },
     "execution_count": 98,
     "metadata": {},
     "output_type": "execute_result"
    }
   ],
   "source": [
    "#расчет доли пользователей прошедших от первого события до оплаты по нашему предполагаемому пути.\n",
    "shape= ((cnt_4/cnt_1)*100).round(2)\n",
    "shape"
   ]
  },
  {
   "cell_type": "markdown",
   "id": "18e2c0fc",
   "metadata": {},
   "source": [
    "Из данного расчета мы видим, что только 6.12% пользователей проходят весь, нами предполагаемый, путь от посещения главное страницы до перехода на экран об успешной оплате. Что подтверждает то, что не все пользователи идут по предполагаемому нами пути."
   ]
  },
  {
   "cell_type": "markdown",
   "id": "09acd0ec",
   "metadata": {},
   "source": [
    "## 5 Изучение результатов эксперимента\n",
    "<a id=\"result\"></a> "
   ]
  },
  {
   "cell_type": "markdown",
   "id": "248b0b5a",
   "metadata": {},
   "source": [
    "### 5.1 Подсчет количества пользователей в каждом эксперименте\n",
    "<a id=\"uniq\"></a> "
   ]
  },
  {
   "cell_type": "code",
   "execution_count": 99,
   "id": "c53299e1",
   "metadata": {},
   "outputs": [
    {
     "data": {
      "text/plain": [
       "2484"
      ]
     },
     "execution_count": 99,
     "metadata": {},
     "output_type": "execute_result"
    }
   ],
   "source": [
    "#подсчет количества уникальных пользователей в эксперименте 246\n",
    "cnt_a=id_a['device_id'].nunique()\n",
    "cnt_a"
   ]
  },
  {
   "cell_type": "code",
   "execution_count": 100,
   "id": "e0e1162e",
   "metadata": {},
   "outputs": [
    {
     "data": {
      "text/plain": [
       "2513"
      ]
     },
     "execution_count": 100,
     "metadata": {},
     "output_type": "execute_result"
    }
   ],
   "source": [
    "#подсчет количества уникальных пользователей в эксперименте 246\n",
    "cnt_aa=id_aa['device_id'].nunique()\n",
    "cnt_aa"
   ]
  },
  {
   "cell_type": "markdown",
   "id": "d66fdebf",
   "metadata": {},
   "source": [
    "Количество пользователей в А/А-тесте различается на 1,15%, что допустимо."
   ]
  },
  {
   "cell_type": "code",
   "execution_count": 101,
   "id": "a44185e1",
   "metadata": {},
   "outputs": [
    {
     "data": {
      "text/plain": [
       "2537"
      ]
     },
     "execution_count": 101,
     "metadata": {},
     "output_type": "execute_result"
    }
   ],
   "source": [
    "#подсчет количества уникальных пользователей в эксперименте 246\n",
    "cnt_b=id_b['device_id'].nunique()\n",
    "cnt_b"
   ]
  },
  {
   "cell_type": "markdown",
   "id": "f631e6fb",
   "metadata": {},
   "source": [
    "### 5.2 Проверка доли пользователей по событиям для каждой группы теста\n",
    "<a id=\"test\"></a> "
   ]
  },
  {
   "cell_type": "code",
   "execution_count": 102,
   "id": "4a0ab4b5",
   "metadata": {},
   "outputs": [],
   "source": [
    "#создание функции для вывода таблицы с расчетом доли пользователей по событиям и группам теста\n",
    "def events_shape(event):\n",
    "    #делаем срез данных по названию события\n",
    "    ev= df_new[df_new['event_name']== event]\n",
    "    #создаем сводную таблицу с расчетом уникальных пользователей по группам по этому событию\n",
    "    cnt_ev= ev.pivot_table(index=['event_name','exp_id'], values='device_id', aggfunc='nunique').reset_index()\n",
    "    #создаем сводную таблицу с расчетом уникальных пользователей по группам\n",
    "    cnt_all=df_new.pivot_table(index='exp_id', values='device_id', aggfunc='nunique').reset_index()\n",
    "    #переименование столбцов\n",
    "    cnt_ev=cnt_ev.rename(columns={'device_id':'cnt_ev_id'})\n",
    "    cnt_all=cnt_all.rename(columns={'device_id':'cnt_all_id'})\n",
    "    #объединение двух сводных таблиц в одну \n",
    "    cnt= cnt_ev.merge(cnt_all, left_on='exp_id', right_on='exp_id')\n",
    "    \n",
    "    #добавление строки с данными из группы 246 и 247 \n",
    "    cnt.loc[3, 'event_name']= event\n",
    "    cnt.loc[3,'exp_id']= 'a+a1'\n",
    "    cnt.loc[3,'cnt_ev_id']=cnt.loc[0,'cnt_ev_id']+cnt.loc[1,'cnt_ev_id']\n",
    "    cnt.loc[3,'cnt_all_id']=cnt.loc[0,'cnt_all_id']+cnt.loc[1,'cnt_all_id']\n",
    "    \n",
    "    #создание отдельного столбца с расчетом доли \n",
    "    cnt['shape']= ((cnt['cnt_ev_id']/cnt['cnt_all_id'])*100).round(2)\n",
    "    \n",
    "    return cnt"
   ]
  },
  {
   "cell_type": "code",
   "execution_count": 103,
   "id": "60d663a9",
   "metadata": {},
   "outputs": [
    {
     "data": {
      "text/html": [
       "<div>\n",
       "<style scoped>\n",
       "    .dataframe tbody tr th:only-of-type {\n",
       "        vertical-align: middle;\n",
       "    }\n",
       "\n",
       "    .dataframe tbody tr th {\n",
       "        vertical-align: top;\n",
       "    }\n",
       "\n",
       "    .dataframe thead th {\n",
       "        text-align: right;\n",
       "    }\n",
       "</style>\n",
       "<table border=\"1\" class=\"dataframe\">\n",
       "  <thead>\n",
       "    <tr style=\"text-align: right;\">\n",
       "      <th></th>\n",
       "      <th>event_name</th>\n",
       "      <th>exp_id</th>\n",
       "      <th>cnt_ev_id</th>\n",
       "      <th>cnt_all_id</th>\n",
       "      <th>shape</th>\n",
       "    </tr>\n",
       "  </thead>\n",
       "  <tbody>\n",
       "    <tr>\n",
       "      <th>0</th>\n",
       "      <td>MainScreenAppear</td>\n",
       "      <td>246.0</td>\n",
       "      <td>2450.0</td>\n",
       "      <td>2484.0</td>\n",
       "      <td>98.63</td>\n",
       "    </tr>\n",
       "    <tr>\n",
       "      <th>1</th>\n",
       "      <td>MainScreenAppear</td>\n",
       "      <td>247.0</td>\n",
       "      <td>2476.0</td>\n",
       "      <td>2513.0</td>\n",
       "      <td>98.53</td>\n",
       "    </tr>\n",
       "    <tr>\n",
       "      <th>2</th>\n",
       "      <td>MainScreenAppear</td>\n",
       "      <td>248.0</td>\n",
       "      <td>2493.0</td>\n",
       "      <td>2537.0</td>\n",
       "      <td>98.27</td>\n",
       "    </tr>\n",
       "    <tr>\n",
       "      <th>3</th>\n",
       "      <td>MainScreenAppear</td>\n",
       "      <td>a+a1</td>\n",
       "      <td>4926.0</td>\n",
       "      <td>4997.0</td>\n",
       "      <td>98.58</td>\n",
       "    </tr>\n",
       "  </tbody>\n",
       "</table>\n",
       "</div>"
      ],
      "text/plain": [
       "         event_name exp_id  cnt_ev_id  cnt_all_id  shape\n",
       "0  MainScreenAppear  246.0     2450.0      2484.0  98.63\n",
       "1  MainScreenAppear  247.0     2476.0      2513.0  98.53\n",
       "2  MainScreenAppear  248.0     2493.0      2537.0  98.27\n",
       "3  MainScreenAppear   a+a1     4926.0      4997.0  98.58"
      ]
     },
     "execution_count": 103,
     "metadata": {},
     "output_type": "execute_result"
    }
   ],
   "source": [
    "#вывод долей по группам по самому популярному событию\n",
    "msa=events_shape('MainScreenAppear')\n",
    "msa"
   ]
  },
  {
   "cell_type": "markdown",
   "id": "08f43762",
   "metadata": {},
   "source": [
    "Здесь мы видим, что доли пользователей совершивших событие \"Просмотр главной страницы\" практически одинаковы, у них есть несущественные различия. "
   ]
  },
  {
   "cell_type": "code",
   "execution_count": 104,
   "id": "547f3dbb",
   "metadata": {},
   "outputs": [
    {
     "data": {
      "text/html": [
       "<div>\n",
       "<style scoped>\n",
       "    .dataframe tbody tr th:only-of-type {\n",
       "        vertical-align: middle;\n",
       "    }\n",
       "\n",
       "    .dataframe tbody tr th {\n",
       "        vertical-align: top;\n",
       "    }\n",
       "\n",
       "    .dataframe thead th {\n",
       "        text-align: right;\n",
       "    }\n",
       "</style>\n",
       "<table border=\"1\" class=\"dataframe\">\n",
       "  <thead>\n",
       "    <tr style=\"text-align: right;\">\n",
       "      <th></th>\n",
       "      <th>event_name</th>\n",
       "      <th>exp_id</th>\n",
       "      <th>cnt_ev_id</th>\n",
       "      <th>cnt_all_id</th>\n",
       "      <th>shape</th>\n",
       "    </tr>\n",
       "  </thead>\n",
       "  <tbody>\n",
       "    <tr>\n",
       "      <th>0</th>\n",
       "      <td>OffersScreenAppear</td>\n",
       "      <td>246.0</td>\n",
       "      <td>1542.0</td>\n",
       "      <td>2484.0</td>\n",
       "      <td>62.08</td>\n",
       "    </tr>\n",
       "    <tr>\n",
       "      <th>1</th>\n",
       "      <td>OffersScreenAppear</td>\n",
       "      <td>247.0</td>\n",
       "      <td>1520.0</td>\n",
       "      <td>2513.0</td>\n",
       "      <td>60.49</td>\n",
       "    </tr>\n",
       "    <tr>\n",
       "      <th>2</th>\n",
       "      <td>OffersScreenAppear</td>\n",
       "      <td>248.0</td>\n",
       "      <td>1531.0</td>\n",
       "      <td>2537.0</td>\n",
       "      <td>60.35</td>\n",
       "    </tr>\n",
       "    <tr>\n",
       "      <th>3</th>\n",
       "      <td>OffersScreenAppear</td>\n",
       "      <td>a+a1</td>\n",
       "      <td>3062.0</td>\n",
       "      <td>4997.0</td>\n",
       "      <td>61.28</td>\n",
       "    </tr>\n",
       "  </tbody>\n",
       "</table>\n",
       "</div>"
      ],
      "text/plain": [
       "           event_name exp_id  cnt_ev_id  cnt_all_id  shape\n",
       "0  OffersScreenAppear  246.0     1542.0      2484.0  62.08\n",
       "1  OffersScreenAppear  247.0     1520.0      2513.0  60.49\n",
       "2  OffersScreenAppear  248.0     1531.0      2537.0  60.35\n",
       "3  OffersScreenAppear   a+a1     3062.0      4997.0  61.28"
      ]
     },
     "execution_count": 104,
     "metadata": {},
     "output_type": "execute_result"
    }
   ],
   "source": [
    "#вывод долей по событию \"Просмотр экрана предложений\"\n",
    "osa=events_shape('OffersScreenAppear')\n",
    "osa"
   ]
  },
  {
   "cell_type": "code",
   "execution_count": 105,
   "id": "ad0a595a",
   "metadata": {},
   "outputs": [
    {
     "data": {
      "text/html": [
       "<div>\n",
       "<style scoped>\n",
       "    .dataframe tbody tr th:only-of-type {\n",
       "        vertical-align: middle;\n",
       "    }\n",
       "\n",
       "    .dataframe tbody tr th {\n",
       "        vertical-align: top;\n",
       "    }\n",
       "\n",
       "    .dataframe thead th {\n",
       "        text-align: right;\n",
       "    }\n",
       "</style>\n",
       "<table border=\"1\" class=\"dataframe\">\n",
       "  <thead>\n",
       "    <tr style=\"text-align: right;\">\n",
       "      <th></th>\n",
       "      <th>event_name</th>\n",
       "      <th>exp_id</th>\n",
       "      <th>cnt_ev_id</th>\n",
       "      <th>cnt_all_id</th>\n",
       "      <th>shape</th>\n",
       "    </tr>\n",
       "  </thead>\n",
       "  <tbody>\n",
       "    <tr>\n",
       "      <th>0</th>\n",
       "      <td>CartScreenAppear</td>\n",
       "      <td>246.0</td>\n",
       "      <td>1266.0</td>\n",
       "      <td>2484.0</td>\n",
       "      <td>50.97</td>\n",
       "    </tr>\n",
       "    <tr>\n",
       "      <th>1</th>\n",
       "      <td>CartScreenAppear</td>\n",
       "      <td>247.0</td>\n",
       "      <td>1238.0</td>\n",
       "      <td>2513.0</td>\n",
       "      <td>49.26</td>\n",
       "    </tr>\n",
       "    <tr>\n",
       "      <th>2</th>\n",
       "      <td>CartScreenAppear</td>\n",
       "      <td>248.0</td>\n",
       "      <td>1230.0</td>\n",
       "      <td>2537.0</td>\n",
       "      <td>48.48</td>\n",
       "    </tr>\n",
       "    <tr>\n",
       "      <th>3</th>\n",
       "      <td>CartScreenAppear</td>\n",
       "      <td>a+a1</td>\n",
       "      <td>2504.0</td>\n",
       "      <td>4997.0</td>\n",
       "      <td>50.11</td>\n",
       "    </tr>\n",
       "  </tbody>\n",
       "</table>\n",
       "</div>"
      ],
      "text/plain": [
       "         event_name exp_id  cnt_ev_id  cnt_all_id  shape\n",
       "0  CartScreenAppear  246.0     1266.0      2484.0  50.97\n",
       "1  CartScreenAppear  247.0     1238.0      2513.0  49.26\n",
       "2  CartScreenAppear  248.0     1230.0      2537.0  48.48\n",
       "3  CartScreenAppear   a+a1     2504.0      4997.0  50.11"
      ]
     },
     "execution_count": 105,
     "metadata": {},
     "output_type": "execute_result"
    }
   ],
   "source": [
    "#вывод долей по событию \"Просмотр корзины\"\n",
    "csa=events_shape('CartScreenAppear')\n",
    "csa"
   ]
  },
  {
   "cell_type": "code",
   "execution_count": 106,
   "id": "430ca47c",
   "metadata": {},
   "outputs": [
    {
     "data": {
      "text/html": [
       "<div>\n",
       "<style scoped>\n",
       "    .dataframe tbody tr th:only-of-type {\n",
       "        vertical-align: middle;\n",
       "    }\n",
       "\n",
       "    .dataframe tbody tr th {\n",
       "        vertical-align: top;\n",
       "    }\n",
       "\n",
       "    .dataframe thead th {\n",
       "        text-align: right;\n",
       "    }\n",
       "</style>\n",
       "<table border=\"1\" class=\"dataframe\">\n",
       "  <thead>\n",
       "    <tr style=\"text-align: right;\">\n",
       "      <th></th>\n",
       "      <th>event_name</th>\n",
       "      <th>exp_id</th>\n",
       "      <th>cnt_ev_id</th>\n",
       "      <th>cnt_all_id</th>\n",
       "      <th>shape</th>\n",
       "    </tr>\n",
       "  </thead>\n",
       "  <tbody>\n",
       "    <tr>\n",
       "      <th>0</th>\n",
       "      <td>PaymentScreenSuccessful</td>\n",
       "      <td>246.0</td>\n",
       "      <td>1200.0</td>\n",
       "      <td>2484.0</td>\n",
       "      <td>48.31</td>\n",
       "    </tr>\n",
       "    <tr>\n",
       "      <th>1</th>\n",
       "      <td>PaymentScreenSuccessful</td>\n",
       "      <td>247.0</td>\n",
       "      <td>1158.0</td>\n",
       "      <td>2513.0</td>\n",
       "      <td>46.08</td>\n",
       "    </tr>\n",
       "    <tr>\n",
       "      <th>2</th>\n",
       "      <td>PaymentScreenSuccessful</td>\n",
       "      <td>248.0</td>\n",
       "      <td>1181.0</td>\n",
       "      <td>2537.0</td>\n",
       "      <td>46.55</td>\n",
       "    </tr>\n",
       "    <tr>\n",
       "      <th>3</th>\n",
       "      <td>PaymentScreenSuccessful</td>\n",
       "      <td>a+a1</td>\n",
       "      <td>2358.0</td>\n",
       "      <td>4997.0</td>\n",
       "      <td>47.19</td>\n",
       "    </tr>\n",
       "  </tbody>\n",
       "</table>\n",
       "</div>"
      ],
      "text/plain": [
       "                event_name exp_id  cnt_ev_id  cnt_all_id  shape\n",
       "0  PaymentScreenSuccessful  246.0     1200.0      2484.0  48.31\n",
       "1  PaymentScreenSuccessful  247.0     1158.0      2513.0  46.08\n",
       "2  PaymentScreenSuccessful  248.0     1181.0      2537.0  46.55\n",
       "3  PaymentScreenSuccessful   a+a1     2358.0      4997.0  47.19"
      ]
     },
     "execution_count": 106,
     "metadata": {},
     "output_type": "execute_result"
    }
   ],
   "source": [
    "#вывод долей по событию \"Переход на страницу об успешной оплате\"\n",
    "pss=events_shape('PaymentScreenSuccessful')\n",
    "pss"
   ]
  },
  {
   "cell_type": "code",
   "execution_count": 107,
   "id": "1eb93387",
   "metadata": {},
   "outputs": [
    {
     "data": {
      "text/html": [
       "<div>\n",
       "<style scoped>\n",
       "    .dataframe tbody tr th:only-of-type {\n",
       "        vertical-align: middle;\n",
       "    }\n",
       "\n",
       "    .dataframe tbody tr th {\n",
       "        vertical-align: top;\n",
       "    }\n",
       "\n",
       "    .dataframe thead th {\n",
       "        text-align: right;\n",
       "    }\n",
       "</style>\n",
       "<table border=\"1\" class=\"dataframe\">\n",
       "  <thead>\n",
       "    <tr style=\"text-align: right;\">\n",
       "      <th></th>\n",
       "      <th>event_name</th>\n",
       "      <th>exp_id</th>\n",
       "      <th>cnt_ev_id</th>\n",
       "      <th>cnt_all_id</th>\n",
       "      <th>shape</th>\n",
       "    </tr>\n",
       "  </thead>\n",
       "  <tbody>\n",
       "    <tr>\n",
       "      <th>0</th>\n",
       "      <td>Tutorial</td>\n",
       "      <td>246.0</td>\n",
       "      <td>278.0</td>\n",
       "      <td>2484.0</td>\n",
       "      <td>11.19</td>\n",
       "    </tr>\n",
       "    <tr>\n",
       "      <th>1</th>\n",
       "      <td>Tutorial</td>\n",
       "      <td>247.0</td>\n",
       "      <td>283.0</td>\n",
       "      <td>2513.0</td>\n",
       "      <td>11.26</td>\n",
       "    </tr>\n",
       "    <tr>\n",
       "      <th>2</th>\n",
       "      <td>Tutorial</td>\n",
       "      <td>248.0</td>\n",
       "      <td>279.0</td>\n",
       "      <td>2537.0</td>\n",
       "      <td>11.00</td>\n",
       "    </tr>\n",
       "    <tr>\n",
       "      <th>3</th>\n",
       "      <td>Tutorial</td>\n",
       "      <td>a+a1</td>\n",
       "      <td>561.0</td>\n",
       "      <td>4997.0</td>\n",
       "      <td>11.23</td>\n",
       "    </tr>\n",
       "  </tbody>\n",
       "</table>\n",
       "</div>"
      ],
      "text/plain": [
       "  event_name exp_id  cnt_ev_id  cnt_all_id  shape\n",
       "0   Tutorial  246.0      278.0      2484.0  11.19\n",
       "1   Tutorial  247.0      283.0      2513.0  11.26\n",
       "2   Tutorial  248.0      279.0      2537.0  11.00\n",
       "3   Tutorial   a+a1      561.0      4997.0  11.23"
      ]
     },
     "execution_count": 107,
     "metadata": {},
     "output_type": "execute_result"
    }
   ],
   "source": [
    "#вывод долей по событию \"Просмотр руководства\"\n",
    "tut=events_shape('Tutorial')\n",
    "tut"
   ]
  },
  {
   "cell_type": "markdown",
   "id": "d74cb5c7",
   "metadata": {},
   "source": [
    "Проанализировав все таблицы с расчетом долей пользователей по группам и событиям, оценив их визуально, можно сделать вывод, то различия в долях есть, но они не критичны, поэтому разбиение на группы корректно.\n",
    "\n",
    "Но чтобы это подтвердить проверим гипотезу.\n",
    "Н0-статистически значимых различий в долях пользователей по событиям и группам нет. Н1- статистически значимые различия в долях пользователей по событиям и группам есть.\n",
    "\n",
    "Так как мы будем проверять Н0 много раз по каждой группе и каждому событию, то сделаем корректировку значения уровня значимости по методу Шидака, чтобы снизить вероятность ложно позитивного результата."
   ]
  },
  {
   "cell_type": "code",
   "execution_count": 108,
   "id": "cdcb19b3",
   "metadata": {},
   "outputs": [],
   "source": [
    "#создание функции для проверки гипотезы\n",
    "def ztest(alpha, cnt_ev_id1, cnt_ev_id2, cnt_all_1, cnt_all_2):\n",
    "    # скорректированное значение требуемого уровня значимости по методу Шидака для произведенных 20 сравнений \n",
    "    shidak=1-(1-alpha)**(1/20)\n",
    "    # пропорция успехов в первой группе:\n",
    "    p1 = cnt_ev_id1/cnt_all_1\n",
    "    # пропорция успехов во второй группе:\n",
    "    p2 = cnt_ev_id2/cnt_all_2\n",
    "    # пропорция успехов в комбинированном датасете:\n",
    "    p_combined = (cnt_ev_id1 + cnt_ev_id2) / (cnt_all_1 + cnt_all_2)\n",
    "    # разница пропорций в датасетах\n",
    "    difference = p1 - p2 \n",
    "    # считаем статистику в стандартных отклонениях стандартного нормального распределения\n",
    "    z_value = difference / mth.sqrt(p_combined * (1 - p_combined) * (1/cnt_all_1 + 1/cnt_all_2))\n",
    "    # задаем стандартное нормальное распределение (среднее 0, стандартное отклонение 1)\n",
    "    distr = st.norm(0, 1)  \n",
    "    p_value = (1 - distr.cdf(abs(z_value))) * 2\n",
    "    print('p-значение: ', p_value)\n",
    "    if p_value < shidak:\n",
    "        print('Отвергаем нулевую гипотезу: между долями есть значимая разница')\n",
    "    else:\n",
    "        print('Не получилось отвергнуть нулевую гипотезу, нет оснований считать доли разными') "
   ]
  },
  {
   "cell_type": "code",
   "execution_count": 109,
   "id": "55bbef1f",
   "metadata": {},
   "outputs": [
    {
     "name": "stdout",
     "output_type": "stream",
     "text": [
      "p-значение:  0.7570597232046099\n",
      "Не получилось отвергнуть нулевую гипотезу, нет оснований считать доли разными\n",
      "p-значение:  0.2480954578522181\n",
      "Не получилось отвергнуть нулевую гипотезу, нет оснований считать доли разными\n",
      "p-значение:  0.22883372237997213\n",
      "Не получилось отвергнуть нулевую гипотезу, нет оснований считать доли разными\n",
      "p-значение:  0.11456679313141849\n",
      "Не получилось отвергнуть нулевую гипотезу, нет оснований считать доли разными\n",
      "p-значение:  0.9376996189257114\n",
      "Не получилось отвергнуть нулевую гипотезу, нет оснований считать доли разными\n"
     ]
    }
   ],
   "source": [
    "#проверка гипотезы для группы 246 и 247 по каждому событию\n",
    "ztest(0.05, msa['cnt_ev_id'].loc[0], msa['cnt_ev_id'].loc[1],msa['cnt_all_id'].loc[0],msa['cnt_all_id'].loc[1])\n",
    "ztest(0.05, osa['cnt_ev_id'].loc[0], osa['cnt_ev_id'].loc[1],osa['cnt_all_id'].loc[0],osa['cnt_all_id'].loc[1])\n",
    "ztest(0.05, csa['cnt_ev_id'].loc[0], csa['cnt_ev_id'].loc[1],csa['cnt_all_id'].loc[0],csa['cnt_all_id'].loc[1])\n",
    "ztest(0.05, pss['cnt_ev_id'].loc[0], pss['cnt_ev_id'].loc[1],pss['cnt_all_id'].loc[0],pss['cnt_all_id'].loc[1])\n",
    "ztest(0.05, tut['cnt_ev_id'].loc[0], tut['cnt_ev_id'].loc[1],tut['cnt_all_id'].loc[0],tut['cnt_all_id'].loc[1])"
   ]
  },
  {
   "cell_type": "code",
   "execution_count": 110,
   "id": "24a4e5b1",
   "metadata": {},
   "outputs": [
    {
     "name": "stdout",
     "output_type": "stream",
     "text": [
      "p-значение:  0.2949721933554552\n",
      "Не получилось отвергнуть нулевую гипотезу, нет оснований считать доли разными\n",
      "p-значение:  0.20836205402738917\n",
      "Не получилось отвергнуть нулевую гипотезу, нет оснований считать доли разными\n",
      "p-значение:  0.07842923237520116\n",
      "Не получилось отвергнуть нулевую гипотезу, нет оснований считать доли разными\n",
      "p-значение:  0.2122553275697796\n",
      "Не получилось отвергнуть нулевую гипотезу, нет оснований считать доли разными\n",
      "p-значение:  0.8264294010087645\n",
      "Не получилось отвергнуть нулевую гипотезу, нет оснований считать доли разными\n"
     ]
    }
   ],
   "source": [
    "#проверка гипотезы для группы 246 и 248 по каждому событию\n",
    "ztest(0.05, msa['cnt_ev_id'].loc[0], msa['cnt_ev_id'].loc[2],msa['cnt_all_id'].loc[0],msa['cnt_all_id'].loc[2])\n",
    "ztest(0.05, osa['cnt_ev_id'].loc[0], osa['cnt_ev_id'].loc[2],osa['cnt_all_id'].loc[0],osa['cnt_all_id'].loc[2])\n",
    "ztest(0.05, csa['cnt_ev_id'].loc[0], csa['cnt_ev_id'].loc[2],csa['cnt_all_id'].loc[0],csa['cnt_all_id'].loc[2])\n",
    "ztest(0.05, pss['cnt_ev_id'].loc[0], pss['cnt_ev_id'].loc[2],pss['cnt_all_id'].loc[0],pss['cnt_all_id'].loc[2])\n",
    "ztest(0.05, tut['cnt_ev_id'].loc[0], tut['cnt_ev_id'].loc[2],tut['cnt_all_id'].loc[0],tut['cnt_all_id'].loc[2])"
   ]
  },
  {
   "cell_type": "code",
   "execution_count": 111,
   "id": "f6aa4885",
   "metadata": {},
   "outputs": [
    {
     "name": "stdout",
     "output_type": "stream",
     "text": [
      "p-значение:  0.4587053616621515\n",
      "Не получилось отвергнуть нулевую гипотезу, нет оснований считать доли разными\n",
      "p-значение:  0.9197817830592261\n",
      "Не получилось отвергнуть нулевую гипотезу, нет оснований считать доли разными\n",
      "p-значение:  0.5786197879539783\n",
      "Не получилось отвергнуть нулевую гипотезу, нет оснований считать доли разными\n",
      "p-значение:  0.7373415053803964\n",
      "Не получилось отвергнуть нулевую гипотезу, нет оснований считать доли разными\n",
      "p-значение:  0.765323922474501\n",
      "Не получилось отвергнуть нулевую гипотезу, нет оснований считать доли разными\n"
     ]
    }
   ],
   "source": [
    "#проверка гипотезы для группы 247 и 248 по каждому событию\n",
    "ztest(0.05, msa['cnt_ev_id'].loc[1], msa['cnt_ev_id'].loc[2],msa['cnt_all_id'].loc[1],msa['cnt_all_id'].loc[2])\n",
    "ztest(0.05, osa['cnt_ev_id'].loc[1], osa['cnt_ev_id'].loc[2],osa['cnt_all_id'].loc[1],osa['cnt_all_id'].loc[2])\n",
    "ztest(0.05, csa['cnt_ev_id'].loc[1], csa['cnt_ev_id'].loc[2],csa['cnt_all_id'].loc[1],csa['cnt_all_id'].loc[2])\n",
    "ztest(0.05, pss['cnt_ev_id'].loc[1], pss['cnt_ev_id'].loc[2],pss['cnt_all_id'].loc[1],pss['cnt_all_id'].loc[2])\n",
    "ztest(0.05, tut['cnt_ev_id'].loc[1], tut['cnt_ev_id'].loc[2],tut['cnt_all_id'].loc[1],tut['cnt_all_id'].loc[2])"
   ]
  },
  {
   "cell_type": "code",
   "execution_count": 112,
   "id": "dce9b540",
   "metadata": {},
   "outputs": [
    {
     "name": "stdout",
     "output_type": "stream",
     "text": [
      "p-значение:  0.29424526837179577\n",
      "Не получилось отвергнуть нулевую гипотезу, нет оснований считать доли разными\n",
      "p-значение:  0.43425549655188256\n",
      "Не получилось отвергнуть нулевую гипотезу, нет оснований считать доли разными\n",
      "p-значение:  0.18175875284404386\n",
      "Не получилось отвергнуть нулевую гипотезу, нет оснований считать доли разными\n",
      "p-значение:  0.6004294282308704\n",
      "Не получилось отвергнуть нулевую гипотезу, нет оснований считать доли разными\n",
      "p-значение:  0.764862472531507\n",
      "Не получилось отвергнуть нулевую гипотезу, нет оснований считать доли разными\n"
     ]
    }
   ],
   "source": [
    "#проверка гипотезы для группы  248 и a_a1 по каждому событию\n",
    "ztest(0.05, msa['cnt_ev_id'].loc[2], msa['cnt_ev_id'].loc[3],msa['cnt_all_id'].loc[2],msa['cnt_all_id'].loc[3])\n",
    "ztest(0.05, osa['cnt_ev_id'].loc[2], osa['cnt_ev_id'].loc[3],osa['cnt_all_id'].loc[2],osa['cnt_all_id'].loc[3])\n",
    "ztest(0.05, csa['cnt_ev_id'].loc[2], csa['cnt_ev_id'].loc[3],csa['cnt_all_id'].loc[2],csa['cnt_all_id'].loc[3])\n",
    "ztest(0.05, pss['cnt_ev_id'].loc[2], pss['cnt_ev_id'].loc[3],pss['cnt_all_id'].loc[2],pss['cnt_all_id'].loc[3])\n",
    "ztest(0.05, tut['cnt_ev_id'].loc[2], tut['cnt_ev_id'].loc[3],tut['cnt_all_id'].loc[2],tut['cnt_all_id'].loc[3])"
   ]
  },
  {
   "cell_type": "markdown",
   "id": "3b6ee9dc",
   "metadata": {},
   "source": [
    "Мы проверили гипотезу по всем группам и событиям. В итоге мы можем точно теперь сказать, что Н0 нельзя отвергать, значит статистически значимых различий между долями нет у групп по событиям.\n",
    "\n",
    "А из этого можно сделать вывод, что изменение шрифта не повлияло на пользователей."
   ]
  },
  {
   "cell_type": "markdown",
   "id": "2dd67273",
   "metadata": {},
   "source": [
    "## 6 Вывод\n",
    "<a id=\"all\"></a> "
   ]
  },
  {
   "cell_type": "markdown",
   "id": "bc58cb4f",
   "metadata": {},
   "source": [
    "В данной работе мы изучили и подготовили данные для дальнейшего анализа, изучили воронку событий и результаты эксперимента.\n",
    "\n",
    "В первой и второй части мы ознакомились с таблицей, изменили названия столбцов на змеиный регистр, создали два столбца с датой и датой и временем, избавились от явных дубликатов.\n",
    "\n",
    "В третьей части мы узнали, что в среднем на одного пользователя приходится 32 события. Был изучен временной промежуток и оставлены только полные данные за период с 25 июля 2019 года по 7 августа 2019 года. В итоге у нас осталось для анализа 240 887 событий, которые совершили 7 534 пользователя. Аномальные пользователи во всех трех группах отсутствуют.\n",
    "\n",
    "В четвертой части работы была изучена и составлена воронка событий. Сначала мы определили частоту совершения каждого события и выявили, что чаще всего пользователи совершают событие MainScreenAppear, потом идет событие OffersScreenAppear, затем CartScreenAppear, затем PaymentScreenSuccessful и меньше всего люди делают событие Tutorial.\n",
    "\n",
    "Был сделан подсчет пользователей, которые совершили каждое событие. Благодаря ему, мы выяснили, что всего 466 пользователей из 7 534 сделали это. Это всего лишь 6,2% всех пользователей.\n",
    "\n",
    "Проанализировав полученные данные по подсчету частоты каждого события и по долям пользователей, которые хоть раз совершали событие, была предположена такая воронка событий:\n",
    "1) (Main Screen Appear) пользователь сначала заходит на главную страницу\n",
    "2) Затем открывает  (Offers Screen Appear) страницу с предложениями\n",
    "3) Переходит в (Cart Screen Appear) корзину\n",
    "4) После оплаты попадает на (Payment Screen Successful) страницу успешной оплаты.\n",
    "\n",
    "По диаграмме, показывающей долю пользователей, переходящих на следующее событие видно, что 38% пользователей отсеиваются на первом событии и не делают следующий шаг(самый большой показатель отсеивания). Возможно нужно сделать более привлекательной главную страницу, чтоб уменьшить процент отсеивания людей. После второго события отсеивается 19% пользователей, а из этих пользователей только 5% не переходят на страницу успешной оплаты заказа, что скорее всего связано с тем, что пользователь передумал совершать покупку или у него возникла ошибка при оплате заказа.\n",
    "\n",
    "Рассчитав долю пользователей, которые проходят путь от первого события до оплаты по выбранному нами пути, выяснили, что только 6.12% пользователей проходят весь путь от посещения главное страницы до перехода на экран об успешной оплате. Это говорит о том, что не все люди проходят по той воронке событий, которая была предположена ( это около 0.08% пользователей).\n",
    "\n",
    "В пятой части были изучены результаты эксперимента по изменению шрифта. У нас есть контрольные группы(246 и 247) и  экспериментальная группа 248. Были созданы функции: 1) Первая для создания таблиц, в которых показана доля пользователей по группам и определенному событию. 2) Вторая функция проверяет гипотезу. \n",
    "\n",
    "Гипотеза Н0- статистически значимых различий в долях пользователей по событиям и группам нет. Н1- статистически значимые различия в долях пользователей по событиям и группам есть.\n",
    "\n",
    "Для проверки гипотезы был скорректирован уровень значимости по методу Шидака, чтобы снизить вероятность ложно позитивного результата, так как гипотезу мы проверили 20 раз. \n",
    "\n",
    "Итог проверки гипотезы: Н0 была подтверждена. Действительно статистически значимых различий в долях пользователей по событиям и группам теста нет. Значит изменение шрифта никак не повлияло на действия пользователей. "
   ]
  }
 ],
 "metadata": {
  "kernelspec": {
   "display_name": "Python 3 (ipykernel)",
   "language": "python",
   "name": "python3"
  },
  "language_info": {
   "codemirror_mode": {
    "name": "ipython",
    "version": 3
   },
   "file_extension": ".py",
   "mimetype": "text/x-python",
   "name": "python",
   "nbconvert_exporter": "python",
   "pygments_lexer": "ipython3",
   "version": "3.10.9"
  }
 },
 "nbformat": 4,
 "nbformat_minor": 5
}
