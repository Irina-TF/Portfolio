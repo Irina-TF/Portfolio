{
 "cells": [
  {
   "cell_type": "markdown",
   "id": "00a917c8",
   "metadata": {},
   "source": [
    "# Исследование надежности заемщиков"
   ]
  },
  {
   "cell_type": "markdown",
   "id": "1e7204f3",
   "metadata": {},
   "source": [
    "Цель работы - разобраться, влияет ли семейное положение и количество детей клиента на факт погашения кредита в срок. Входные данные от банка — статистика о платёжеспособности клиентов.\n",
    "Результаты исследования будут учтены при построении модели кредитного скоринга — специальной системы, которая оценивает способность потенциального заёмщика вернуть кредит банку."
   ]
  },
  {
   "cell_type": "markdown",
   "id": "92a5edcb",
   "metadata": {},
   "source": [
    "## Изучение общей информации о данных "
   ]
  },
  {
   "cell_type": "code",
   "execution_count": 1,
   "id": "1efbc3aa",
   "metadata": {},
   "outputs": [],
   "source": [
    "import pandas as pd# импортируем библиотеку pandas"
   ]
  },
  {
   "cell_type": "code",
   "execution_count": 2,
   "id": "a215d587",
   "metadata": {},
   "outputs": [
    {
     "data": {
      "text/html": [
       "<div>\n",
       "<style scoped>\n",
       "    .dataframe tbody tr th:only-of-type {\n",
       "        vertical-align: middle;\n",
       "    }\n",
       "\n",
       "    .dataframe tbody tr th {\n",
       "        vertical-align: top;\n",
       "    }\n",
       "\n",
       "    .dataframe thead th {\n",
       "        text-align: right;\n",
       "    }\n",
       "</style>\n",
       "<table border=\"1\" class=\"dataframe\">\n",
       "  <thead>\n",
       "    <tr style=\"text-align: right;\">\n",
       "      <th></th>\n",
       "      <th>children</th>\n",
       "      <th>days_employed</th>\n",
       "      <th>dob_years</th>\n",
       "      <th>education</th>\n",
       "      <th>education_id</th>\n",
       "      <th>family_status</th>\n",
       "      <th>family_status_id</th>\n",
       "      <th>gender</th>\n",
       "      <th>income_type</th>\n",
       "      <th>debt</th>\n",
       "      <th>total_income</th>\n",
       "      <th>purpose</th>\n",
       "    </tr>\n",
       "  </thead>\n",
       "  <tbody>\n",
       "    <tr>\n",
       "      <th>0</th>\n",
       "      <td>1</td>\n",
       "      <td>-8437.673028</td>\n",
       "      <td>42</td>\n",
       "      <td>высшее</td>\n",
       "      <td>0</td>\n",
       "      <td>женат / замужем</td>\n",
       "      <td>0</td>\n",
       "      <td>F</td>\n",
       "      <td>сотрудник</td>\n",
       "      <td>0</td>\n",
       "      <td>253875.639453</td>\n",
       "      <td>покупка жилья</td>\n",
       "    </tr>\n",
       "    <tr>\n",
       "      <th>1</th>\n",
       "      <td>1</td>\n",
       "      <td>-4024.803754</td>\n",
       "      <td>36</td>\n",
       "      <td>среднее</td>\n",
       "      <td>1</td>\n",
       "      <td>женат / замужем</td>\n",
       "      <td>0</td>\n",
       "      <td>F</td>\n",
       "      <td>сотрудник</td>\n",
       "      <td>0</td>\n",
       "      <td>112080.014102</td>\n",
       "      <td>приобретение автомобиля</td>\n",
       "    </tr>\n",
       "    <tr>\n",
       "      <th>2</th>\n",
       "      <td>0</td>\n",
       "      <td>-5623.422610</td>\n",
       "      <td>33</td>\n",
       "      <td>Среднее</td>\n",
       "      <td>1</td>\n",
       "      <td>женат / замужем</td>\n",
       "      <td>0</td>\n",
       "      <td>M</td>\n",
       "      <td>сотрудник</td>\n",
       "      <td>0</td>\n",
       "      <td>145885.952297</td>\n",
       "      <td>покупка жилья</td>\n",
       "    </tr>\n",
       "    <tr>\n",
       "      <th>3</th>\n",
       "      <td>3</td>\n",
       "      <td>-4124.747207</td>\n",
       "      <td>32</td>\n",
       "      <td>среднее</td>\n",
       "      <td>1</td>\n",
       "      <td>женат / замужем</td>\n",
       "      <td>0</td>\n",
       "      <td>M</td>\n",
       "      <td>сотрудник</td>\n",
       "      <td>0</td>\n",
       "      <td>267628.550329</td>\n",
       "      <td>дополнительное образование</td>\n",
       "    </tr>\n",
       "    <tr>\n",
       "      <th>4</th>\n",
       "      <td>0</td>\n",
       "      <td>340266.072047</td>\n",
       "      <td>53</td>\n",
       "      <td>среднее</td>\n",
       "      <td>1</td>\n",
       "      <td>гражданский брак</td>\n",
       "      <td>1</td>\n",
       "      <td>F</td>\n",
       "      <td>пенсионер</td>\n",
       "      <td>0</td>\n",
       "      <td>158616.077870</td>\n",
       "      <td>сыграть свадьбу</td>\n",
       "    </tr>\n",
       "  </tbody>\n",
       "</table>\n",
       "</div>"
      ],
      "text/plain": [
       "   children  days_employed  dob_years education  education_id  \\\n",
       "0         1   -8437.673028         42    высшее             0   \n",
       "1         1   -4024.803754         36   среднее             1   \n",
       "2         0   -5623.422610         33   Среднее             1   \n",
       "3         3   -4124.747207         32   среднее             1   \n",
       "4         0  340266.072047         53   среднее             1   \n",
       "\n",
       "      family_status  family_status_id gender income_type  debt   total_income  \\\n",
       "0   женат / замужем                 0      F   сотрудник     0  253875.639453   \n",
       "1   женат / замужем                 0      F   сотрудник     0  112080.014102   \n",
       "2   женат / замужем                 0      M   сотрудник     0  145885.952297   \n",
       "3   женат / замужем                 0      M   сотрудник     0  267628.550329   \n",
       "4  гражданский брак                 1      F   пенсионер     0  158616.077870   \n",
       "\n",
       "                      purpose  \n",
       "0               покупка жилья  \n",
       "1     приобретение автомобиля  \n",
       "2               покупка жилья  \n",
       "3  дополнительное образование  \n",
       "4             сыграть свадьбу  "
      ]
     },
     "execution_count": 2,
     "metadata": {},
     "output_type": "execute_result"
    }
   ],
   "source": [
    "data=pd.read_csv('проект 2.csv')#открытие файла\n",
    "data.head(5)"
   ]
  },
  {
   "cell_type": "code",
   "execution_count": 3,
   "id": "2c2aea38",
   "metadata": {},
   "outputs": [
    {
     "name": "stdout",
     "output_type": "stream",
     "text": [
      "<class 'pandas.core.frame.DataFrame'>\n",
      "RangeIndex: 21525 entries, 0 to 21524\n",
      "Data columns (total 12 columns):\n",
      " #   Column            Non-Null Count  Dtype  \n",
      "---  ------            --------------  -----  \n",
      " 0   children          21525 non-null  int64  \n",
      " 1   days_employed     19351 non-null  float64\n",
      " 2   dob_years         21525 non-null  int64  \n",
      " 3   education         21525 non-null  object \n",
      " 4   education_id      21525 non-null  int64  \n",
      " 5   family_status     21525 non-null  object \n",
      " 6   family_status_id  21525 non-null  int64  \n",
      " 7   gender            21525 non-null  object \n",
      " 8   income_type       21525 non-null  object \n",
      " 9   debt              21525 non-null  int64  \n",
      " 10  total_income      19351 non-null  float64\n",
      " 11  purpose           21525 non-null  object \n",
      "dtypes: float64(2), int64(5), object(5)\n",
      "memory usage: 2.0+ MB\n"
     ]
    }
   ],
   "source": [
    "data.info()# вывод информации файле"
   ]
  },
  {
   "cell_type": "markdown",
   "id": "5b6ae8dc",
   "metadata": {},
   "source": [
    "Данные показывают, что у нас есть пропуски в столбце days_employed и total_income, которые мы обработаем в следующем блоке. Там же мы изменим тип данных, где это нужно.\n"
   ]
  },
  {
   "cell_type": "markdown",
   "id": "61dce381",
   "metadata": {},
   "source": [
    "## Предобработка данных"
   ]
  },
  {
   "cell_type": "markdown",
   "id": "4bd7b62c",
   "metadata": {},
   "source": [
    "### Удаление пропусков"
   ]
  },
  {
   "cell_type": "code",
   "execution_count": 4,
   "id": "31d4a04c",
   "metadata": {},
   "outputs": [
    {
     "data": {
      "text/plain": [
       "children               0\n",
       "days_employed       2174\n",
       "dob_years              0\n",
       "education              0\n",
       "education_id           0\n",
       "family_status          0\n",
       "family_status_id       0\n",
       "gender                 0\n",
       "income_type            0\n",
       "debt                   0\n",
       "total_income        2174\n",
       "purpose                0\n",
       "dtype: int64"
      ]
     },
     "execution_count": 4,
     "metadata": {},
     "output_type": "execute_result"
    }
   ],
   "source": [
    "#вывод количества пропуском\n",
    "data.isna().sum()"
   ]
  },
  {
   "cell_type": "markdown",
   "id": "0026eb2d",
   "metadata": {},
   "source": [
    "total_income — хранит данные о доходах. На сумму дохода сильнее всего влияет тип занятости, поэтому заполним пропуски в этом столбце медианным значением по каждому типу из столбца income_type."
   ]
  },
  {
   "cell_type": "code",
   "execution_count": 5,
   "id": "e9ae6f04",
   "metadata": {},
   "outputs": [
    {
     "name": "stdout",
     "output_type": "stream",
     "text": [
      "0\n"
     ]
    }
   ],
   "source": [
    "for ind in data['income_type'].unique():\n",
    "    data.loc[(data['income_type']==ind)&(data['total_income'].isna()),'total_income']=\\\n",
    "    data.loc[(data['income_type']==ind),'total_income'].median()\n",
    "print(data['total_income'].isna().sum())"
   ]
  },
  {
   "cell_type": "markdown",
   "id": "a0b9f2f0",
   "metadata": {},
   "source": [
    "### Обработка аномальных значений"
   ]
  },
  {
   "cell_type": "code",
   "execution_count": 6,
   "id": "56c1f64f",
   "metadata": {},
   "outputs": [],
   "source": [
    "#замена всех отрицательных значений на положительные\n",
    "data['days_employed']=abs(data['days_employed'])"
   ]
  },
  {
   "cell_type": "code",
   "execution_count": 7,
   "id": "58393966",
   "metadata": {},
   "outputs": [
    {
     "data": {
      "text/plain": [
       "income_type\n",
       "безработный        366413.652744\n",
       "в декрете            3296.759962\n",
       "госслужащий          2689.368353\n",
       "компаньон            1547.382223\n",
       "пенсионер          365213.306266\n",
       "предприниматель       520.848083\n",
       "сотрудник            1574.202821\n",
       "студент               578.751554\n",
       "Name: days_employed, dtype: float64"
      ]
     },
     "execution_count": 7,
     "metadata": {},
     "output_type": "execute_result"
    }
   ],
   "source": [
    "data.groupby('income_type')['days_employed'].median()# вывод медианного значения трудового стажа days_employed в днях."
   ]
  },
  {
   "cell_type": "markdown",
   "id": "29217204",
   "metadata": {},
   "source": [
    "У двух типов (безработные и пенсионеры) получатся аномально большие значения. Исправить такие значения сложно, поэтому оставим их как есть."
   ]
  },
  {
   "cell_type": "code",
   "execution_count": 8,
   "id": "8fba794c",
   "metadata": {},
   "outputs": [
    {
     "data": {
      "text/plain": [
       "array([ 1,  0,  3,  2, -1,  4, 20,  5], dtype=int64)"
      ]
     },
     "execution_count": 8,
     "metadata": {},
     "output_type": "execute_result"
    }
   ],
   "source": [
    "#вывод уникальных значений в столбце \n",
    "data['children'].unique()"
   ]
  },
  {
   "cell_type": "code",
   "execution_count": 9,
   "id": "f001a8d9",
   "metadata": {},
   "outputs": [],
   "source": [
    "#оставляем данные без аномалий\n",
    "data=data.loc[(data['children']>=0)&(data['children']<20)]"
   ]
  },
  {
   "cell_type": "code",
   "execution_count": 10,
   "id": "9a2aff6c",
   "metadata": {},
   "outputs": [
    {
     "data": {
      "text/plain": [
       "array([1, 0, 3, 2, 4, 5], dtype=int64)"
      ]
     },
     "execution_count": 10,
     "metadata": {},
     "output_type": "execute_result"
    }
   ],
   "source": [
    "#вывод уникальных значений\n",
    "data['children'].unique()"
   ]
  },
  {
   "cell_type": "markdown",
   "id": "d8fde253",
   "metadata": {},
   "source": [
    "### Удаление пропусков (продолжение)"
   ]
  },
  {
   "cell_type": "markdown",
   "id": "8d5629c6",
   "metadata": {},
   "source": [
    "Заполним пропуски в столбце days_employed медианными значениями по каждому типу занятости income_type"
   ]
  },
  {
   "cell_type": "code",
   "execution_count": 11,
   "id": "65aca68b",
   "metadata": {},
   "outputs": [
    {
     "name": "stdout",
     "output_type": "stream",
     "text": [
      "0\n"
     ]
    }
   ],
   "source": [
    "#заполнение пропусков медианным значением \n",
    "for ind in data['income_type'].unique():\n",
    "    data.loc[(data['income_type']==ind)&(data['days_employed'].isna()),'days_employed']=\\\n",
    "    data.loc[(data['income_type']==ind),'days_employed'].median()\n",
    "print(data['days_employed'].isna().sum())"
   ]
  },
  {
   "cell_type": "code",
   "execution_count": 12,
   "id": "442ef4bb",
   "metadata": {},
   "outputs": [
    {
     "name": "stdout",
     "output_type": "stream",
     "text": [
      "<class 'pandas.core.frame.DataFrame'>\n",
      "Int64Index: 21402 entries, 0 to 21524\n",
      "Data columns (total 12 columns):\n",
      " #   Column            Non-Null Count  Dtype  \n",
      "---  ------            --------------  -----  \n",
      " 0   children          21402 non-null  int64  \n",
      " 1   days_employed     21402 non-null  float64\n",
      " 2   dob_years         21402 non-null  int64  \n",
      " 3   education         21402 non-null  object \n",
      " 4   education_id      21402 non-null  int64  \n",
      " 5   family_status     21402 non-null  object \n",
      " 6   family_status_id  21402 non-null  int64  \n",
      " 7   gender            21402 non-null  object \n",
      " 8   income_type       21402 non-null  object \n",
      " 9   debt              21402 non-null  int64  \n",
      " 10  total_income      21402 non-null  float64\n",
      " 11  purpose           21402 non-null  object \n",
      "dtypes: float64(2), int64(5), object(5)\n",
      "memory usage: 2.1+ MB\n"
     ]
    }
   ],
   "source": [
    "#проверка данных на пропуски\n",
    "data.info()"
   ]
  },
  {
   "cell_type": "markdown",
   "id": "95a344ad",
   "metadata": {},
   "source": [
    "### Изменение типов данных"
   ]
  },
  {
   "cell_type": "code",
   "execution_count": 13,
   "id": "ab96e81b",
   "metadata": {},
   "outputs": [],
   "source": [
    "data['total_income']=data['total_income'].astype('int')#изменение типа данных"
   ]
  },
  {
   "cell_type": "markdown",
   "id": "d34d6c3d",
   "metadata": {},
   "source": [
    "### Обработка дубликатов"
   ]
  },
  {
   "cell_type": "markdown",
   "id": "2e50b56a",
   "metadata": {},
   "source": [
    "Обработаем неявные дубликаты в столбце education и приведем все названия к нижнему регистру"
   ]
  },
  {
   "cell_type": "code",
   "execution_count": 14,
   "id": "c8513cc0",
   "metadata": {},
   "outputs": [],
   "source": [
    "data['education']=data['education'].str.lower()#приведение данных в столбце к нижнему регистру"
   ]
  },
  {
   "cell_type": "code",
   "execution_count": 15,
   "id": "2a2a0599",
   "metadata": {},
   "outputs": [
    {
     "data": {
      "text/plain": [
       "71"
      ]
     },
     "execution_count": 15,
     "metadata": {},
     "output_type": "execute_result"
    }
   ],
   "source": [
    "data.duplicated().sum() #подсчет дубликатов"
   ]
  },
  {
   "cell_type": "code",
   "execution_count": 16,
   "id": "b7c1def8",
   "metadata": {},
   "outputs": [],
   "source": [
    "data=data.drop_duplicates()# удаляем дубликаты"
   ]
  },
  {
   "cell_type": "markdown",
   "id": "70f99a1e",
   "metadata": {},
   "source": [
    "### Категоризация данных"
   ]
  },
  {
   "cell_type": "code",
   "execution_count": 17,
   "id": "37b45529",
   "metadata": {},
   "outputs": [],
   "source": [
    "def categorize_income(row):\n",
    "    total_income=row['total_income']\n",
    "    if total_income<=30000:\n",
    "        return 'E'\n",
    "    if total_income <=50000:\n",
    "        return 'D'\n",
    "    if total_income <=200000:\n",
    "        return 'C'\n",
    "    if total_income <=1000000:\n",
    "        return 'B'\n",
    "    return 'A'# создание функции categorize_income() для отнесения людей по их доходу на группы"
   ]
  },
  {
   "cell_type": "code",
   "execution_count": 18,
   "id": "41c95e19",
   "metadata": {},
   "outputs": [],
   "source": [
    "import warnings \n",
    "warnings.filterwarnings(\"ignore\") #убираем красные текстовые предупреждения"
   ]
  },
  {
   "cell_type": "code",
   "execution_count": 19,
   "id": "12772ae7",
   "metadata": {},
   "outputs": [],
   "source": [
    "data['total_income_category']=data.apply(categorize_income,axis=1)#применяем функцию методом apply()"
   ]
  },
  {
   "cell_type": "code",
   "execution_count": 20,
   "id": "082e931d",
   "metadata": {},
   "outputs": [
    {
     "data": {
      "text/plain": [
       "array(['покупка жилья', 'приобретение автомобиля',\n",
       "       'дополнительное образование', 'сыграть свадьбу',\n",
       "       'операции с жильем', 'образование', 'на проведение свадьбы',\n",
       "       'покупка жилья для семьи', 'покупка недвижимости',\n",
       "       'покупка коммерческой недвижимости', 'покупка жилой недвижимости',\n",
       "       'строительство собственной недвижимости', 'недвижимость',\n",
       "       'строительство недвижимости', 'на покупку подержанного автомобиля',\n",
       "       'на покупку своего автомобиля',\n",
       "       'операции с коммерческой недвижимостью',\n",
       "       'строительство жилой недвижимости', 'жилье',\n",
       "       'операции со своей недвижимостью', 'автомобили',\n",
       "       'заняться образованием', 'сделка с подержанным автомобилем',\n",
       "       'получение образования', 'автомобиль', 'свадьба',\n",
       "       'получение дополнительного образования', 'покупка своего жилья',\n",
       "       'операции с недвижимостью', 'получение высшего образования',\n",
       "       'свой автомобиль', 'сделка с автомобилем',\n",
       "       'профильное образование', 'высшее образование',\n",
       "       'покупка жилья для сдачи', 'на покупку автомобиля', 'ремонт жилью',\n",
       "       'заняться высшим образованием'], dtype=object)"
      ]
     },
     "execution_count": 20,
     "metadata": {},
     "output_type": "execute_result"
    }
   ],
   "source": [
    "data['purpose'].unique() #перечень уникальных целей взятия кредита"
   ]
  },
  {
   "cell_type": "code",
   "execution_count": 21,
   "id": "2d023e98",
   "metadata": {},
   "outputs": [],
   "source": [
    "def categorize_purpose(row):\n",
    "    purpose=row['purpose']\n",
    "    if 'авто' in purpose:\n",
    "        return 'операции с автомобилем'\n",
    "    if 'жиль' in purpose or 'недвижим' in purpose:\n",
    "        return 'операции с недвижимостью'\n",
    "    if 'свадьб' in purpose:\n",
    "        return 'проведение свадьбы'\n",
    "    return 'получение образования'#создание функции categorize_purpose() для разделения на цели взятия кредита"
   ]
  },
  {
   "cell_type": "code",
   "execution_count": 22,
   "id": "14908709",
   "metadata": {},
   "outputs": [],
   "source": [
    "data['purpose_category']=data.apply(categorize_purpose,axis=1)#применение функции методом apply()"
   ]
  },
  {
   "cell_type": "markdown",
   "id": "9047cde1",
   "metadata": {},
   "source": [
    "## Исследование данных"
   ]
  },
  {
   "cell_type": "markdown",
   "id": "6818d46a",
   "metadata": {},
   "source": [
    "### Есть ли зависимость между количеством детей и возвратом кредита в срок?"
   ]
  },
  {
   "cell_type": "code",
   "execution_count": 23,
   "id": "da5368e8",
   "metadata": {},
   "outputs": [
    {
     "data": {
      "text/html": [
       "<div>\n",
       "<style scoped>\n",
       "    .dataframe tbody tr th:only-of-type {\n",
       "        vertical-align: middle;\n",
       "    }\n",
       "\n",
       "    .dataframe tbody tr th {\n",
       "        vertical-align: top;\n",
       "    }\n",
       "\n",
       "    .dataframe thead th {\n",
       "        text-align: right;\n",
       "    }\n",
       "</style>\n",
       "<table border=\"1\" class=\"dataframe\">\n",
       "  <thead>\n",
       "    <tr style=\"text-align: right;\">\n",
       "      <th></th>\n",
       "      <th>count</th>\n",
       "      <th>mean</th>\n",
       "      <th>sum</th>\n",
       "    </tr>\n",
       "    <tr>\n",
       "      <th>children</th>\n",
       "      <th></th>\n",
       "      <th></th>\n",
       "      <th></th>\n",
       "    </tr>\n",
       "  </thead>\n",
       "  <tbody>\n",
       "    <tr>\n",
       "      <th>0</th>\n",
       "      <td>14091</td>\n",
       "      <td>0.075438</td>\n",
       "      <td>1063</td>\n",
       "    </tr>\n",
       "    <tr>\n",
       "      <th>1</th>\n",
       "      <td>4808</td>\n",
       "      <td>0.092346</td>\n",
       "      <td>444</td>\n",
       "    </tr>\n",
       "    <tr>\n",
       "      <th>2</th>\n",
       "      <td>2052</td>\n",
       "      <td>0.094542</td>\n",
       "      <td>194</td>\n",
       "    </tr>\n",
       "    <tr>\n",
       "      <th>3</th>\n",
       "      <td>330</td>\n",
       "      <td>0.081818</td>\n",
       "      <td>27</td>\n",
       "    </tr>\n",
       "    <tr>\n",
       "      <th>4</th>\n",
       "      <td>41</td>\n",
       "      <td>0.097561</td>\n",
       "      <td>4</td>\n",
       "    </tr>\n",
       "    <tr>\n",
       "      <th>5</th>\n",
       "      <td>9</td>\n",
       "      <td>0.000000</td>\n",
       "      <td>0</td>\n",
       "    </tr>\n",
       "  </tbody>\n",
       "</table>\n",
       "</div>"
      ],
      "text/plain": [
       "          count      mean   sum\n",
       "children                       \n",
       "0         14091  0.075438  1063\n",
       "1          4808  0.092346   444\n",
       "2          2052  0.094542   194\n",
       "3           330  0.081818    27\n",
       "4            41  0.097561     4\n",
       "5             9  0.000000     0"
      ]
     },
     "execution_count": 23,
     "metadata": {},
     "output_type": "execute_result"
    }
   ],
   "source": [
    "#создание сводной таблицы \n",
    "data_children_pivot=data.pivot_table(index=['children'],values='debt',aggfunc=('count','sum','mean')) \n",
    "data_children_pivot"
   ]
  },
  {
   "cell_type": "markdown",
   "id": "4f1d7e5c",
   "metadata": {},
   "source": [
    "Исходя из полученных данных можно сделать вывод, что больше всего должников по кредиту являются клиенты с четырьмя, двумя и одним ребенком в семье. При этом чаще всего берут кредиты клиенты бездетные. "
   ]
  },
  {
   "cell_type": "markdown",
   "id": "db65d43b",
   "metadata": {},
   "source": [
    "### Есть ли зависимость между семейным положением и возвратом кредита в срок?"
   ]
  },
  {
   "cell_type": "code",
   "execution_count": 24,
   "id": "72c7bf16",
   "metadata": {},
   "outputs": [
    {
     "data": {
      "text/html": [
       "<div>\n",
       "<style scoped>\n",
       "    .dataframe tbody tr th:only-of-type {\n",
       "        vertical-align: middle;\n",
       "    }\n",
       "\n",
       "    .dataframe tbody tr th {\n",
       "        vertical-align: top;\n",
       "    }\n",
       "\n",
       "    .dataframe thead th {\n",
       "        text-align: right;\n",
       "    }\n",
       "</style>\n",
       "<table border=\"1\" class=\"dataframe\">\n",
       "  <thead>\n",
       "    <tr style=\"text-align: right;\">\n",
       "      <th></th>\n",
       "      <th>count</th>\n",
       "      <th>mean</th>\n",
       "      <th>sum</th>\n",
       "    </tr>\n",
       "    <tr>\n",
       "      <th>family_status</th>\n",
       "      <th></th>\n",
       "      <th></th>\n",
       "      <th></th>\n",
       "    </tr>\n",
       "  </thead>\n",
       "  <tbody>\n",
       "    <tr>\n",
       "      <th>Не женат / не замужем</th>\n",
       "      <td>2796</td>\n",
       "      <td>0.097639</td>\n",
       "      <td>273</td>\n",
       "    </tr>\n",
       "    <tr>\n",
       "      <th>в разводе</th>\n",
       "      <td>1189</td>\n",
       "      <td>0.070648</td>\n",
       "      <td>84</td>\n",
       "    </tr>\n",
       "    <tr>\n",
       "      <th>вдовец / вдова</th>\n",
       "      <td>951</td>\n",
       "      <td>0.066246</td>\n",
       "      <td>63</td>\n",
       "    </tr>\n",
       "    <tr>\n",
       "      <th>гражданский брак</th>\n",
       "      <td>4134</td>\n",
       "      <td>0.093130</td>\n",
       "      <td>385</td>\n",
       "    </tr>\n",
       "    <tr>\n",
       "      <th>женат / замужем</th>\n",
       "      <td>12261</td>\n",
       "      <td>0.075606</td>\n",
       "      <td>927</td>\n",
       "    </tr>\n",
       "  </tbody>\n",
       "</table>\n",
       "</div>"
      ],
      "text/plain": [
       "                       count      mean  sum\n",
       "family_status                              \n",
       "Не женат / не замужем   2796  0.097639  273\n",
       "в разводе               1189  0.070648   84\n",
       "вдовец / вдова           951  0.066246   63\n",
       "гражданский брак        4134  0.093130  385\n",
       "женат / замужем        12261  0.075606  927"
      ]
     },
     "execution_count": 24,
     "metadata": {},
     "output_type": "execute_result"
    }
   ],
   "source": [
    "#создание сводной таблицы\n",
    "data_family_status_pivot=data.pivot_table(index=['family_status'],values='debt',aggfunc=('count','sum','mean'))\n",
    "data_family_status_pivot"
   ]
  },
  {
   "cell_type": "markdown",
   "id": "7b9b06bd",
   "metadata": {},
   "source": [
    "Исходя из полученных данных больше всего задолжностей по кредиту в средне арифметическом значение у не женатых/не замужних и у клиентов, состоящих в гражданском браке. Из этого можно сделать вывод, что чаще всего кредиты берут женатые и незамужние клиенты, но при этом больше всего задолжностей у не женатых/не замужних и у клиентов, состоящих в гражданском браке."
   ]
  },
  {
   "cell_type": "markdown",
   "id": "9f427e70",
   "metadata": {},
   "source": [
    "### Есть ли зависимость между уровнем дохода и возвратом кредита в срок?"
   ]
  },
  {
   "cell_type": "code",
   "execution_count": 25,
   "id": "878bb8c4",
   "metadata": {},
   "outputs": [
    {
     "data": {
      "text/html": [
       "<div>\n",
       "<style scoped>\n",
       "    .dataframe tbody tr th:only-of-type {\n",
       "        vertical-align: middle;\n",
       "    }\n",
       "\n",
       "    .dataframe tbody tr th {\n",
       "        vertical-align: top;\n",
       "    }\n",
       "\n",
       "    .dataframe thead th {\n",
       "        text-align: right;\n",
       "    }\n",
       "</style>\n",
       "<table border=\"1\" class=\"dataframe\">\n",
       "  <thead>\n",
       "    <tr style=\"text-align: right;\">\n",
       "      <th></th>\n",
       "      <th>count</th>\n",
       "      <th>mean</th>\n",
       "      <th>sum</th>\n",
       "    </tr>\n",
       "    <tr>\n",
       "      <th>total_income_category</th>\n",
       "      <th></th>\n",
       "      <th></th>\n",
       "      <th></th>\n",
       "    </tr>\n",
       "  </thead>\n",
       "  <tbody>\n",
       "    <tr>\n",
       "      <th>A</th>\n",
       "      <td>25</td>\n",
       "      <td>0.080000</td>\n",
       "      <td>2</td>\n",
       "    </tr>\n",
       "    <tr>\n",
       "      <th>B</th>\n",
       "      <td>5014</td>\n",
       "      <td>0.070602</td>\n",
       "      <td>354</td>\n",
       "    </tr>\n",
       "    <tr>\n",
       "      <th>C</th>\n",
       "      <td>15921</td>\n",
       "      <td>0.084982</td>\n",
       "      <td>1353</td>\n",
       "    </tr>\n",
       "    <tr>\n",
       "      <th>D</th>\n",
       "      <td>349</td>\n",
       "      <td>0.060172</td>\n",
       "      <td>21</td>\n",
       "    </tr>\n",
       "    <tr>\n",
       "      <th>E</th>\n",
       "      <td>22</td>\n",
       "      <td>0.090909</td>\n",
       "      <td>2</td>\n",
       "    </tr>\n",
       "  </tbody>\n",
       "</table>\n",
       "</div>"
      ],
      "text/plain": [
       "                       count      mean   sum\n",
       "total_income_category                       \n",
       "A                         25  0.080000     2\n",
       "B                       5014  0.070602   354\n",
       "C                      15921  0.084982  1353\n",
       "D                        349  0.060172    21\n",
       "E                         22  0.090909     2"
      ]
     },
     "execution_count": 25,
     "metadata": {},
     "output_type": "execute_result"
    }
   ],
   "source": [
    "#создание сводной таблицы \n",
    "data_total_income_pivot=data.pivot_table(index=['total_income_category'],values='debt',aggfunc=('count','sum','mean'))\n",
    "data_total_income_pivot"
   ]
  },
  {
   "cell_type": "markdown",
   "id": "3da17aa7",
   "metadata": {},
   "source": [
    " Исходя из полученных данных, больше всего берут кредиты клиенты с заработком от 50001-200000 рублей, при этом 8.49% клиентов имеют задолжность по кредиту. Меньше всего кредитов берут клиенты с заработком до 30000 рублей, но у них чаще всего задолжность по кредиту, которая составляет 9.09%."
   ]
  },
  {
   "cell_type": "markdown",
   "id": "9ef83d37",
   "metadata": {},
   "source": [
    "### Как разные цели кредита влияют на его возврат в срок?"
   ]
  },
  {
   "cell_type": "code",
   "execution_count": 26,
   "id": "1f662a96",
   "metadata": {},
   "outputs": [
    {
     "data": {
      "text/html": [
       "<div>\n",
       "<style scoped>\n",
       "    .dataframe tbody tr th:only-of-type {\n",
       "        vertical-align: middle;\n",
       "    }\n",
       "\n",
       "    .dataframe tbody tr th {\n",
       "        vertical-align: top;\n",
       "    }\n",
       "\n",
       "    .dataframe thead th {\n",
       "        text-align: right;\n",
       "    }\n",
       "</style>\n",
       "<table border=\"1\" class=\"dataframe\">\n",
       "  <thead>\n",
       "    <tr style=\"text-align: right;\">\n",
       "      <th></th>\n",
       "      <th>count</th>\n",
       "      <th>mean</th>\n",
       "      <th>sum</th>\n",
       "    </tr>\n",
       "    <tr>\n",
       "      <th>purpose_category</th>\n",
       "      <th></th>\n",
       "      <th></th>\n",
       "      <th></th>\n",
       "    </tr>\n",
       "  </thead>\n",
       "  <tbody>\n",
       "    <tr>\n",
       "      <th>операции с автомобилем</th>\n",
       "      <td>4279</td>\n",
       "      <td>0.093480</td>\n",
       "      <td>400</td>\n",
       "    </tr>\n",
       "    <tr>\n",
       "      <th>операции с недвижимостью</th>\n",
       "      <td>10751</td>\n",
       "      <td>0.072551</td>\n",
       "      <td>780</td>\n",
       "    </tr>\n",
       "    <tr>\n",
       "      <th>получение образования</th>\n",
       "      <td>3988</td>\n",
       "      <td>0.092528</td>\n",
       "      <td>369</td>\n",
       "    </tr>\n",
       "    <tr>\n",
       "      <th>проведение свадьбы</th>\n",
       "      <td>2313</td>\n",
       "      <td>0.079118</td>\n",
       "      <td>183</td>\n",
       "    </tr>\n",
       "  </tbody>\n",
       "</table>\n",
       "</div>"
      ],
      "text/plain": [
       "                          count      mean  sum\n",
       "purpose_category                              \n",
       "операции с автомобилем     4279  0.093480  400\n",
       "операции с недвижимостью  10751  0.072551  780\n",
       "получение образования      3988  0.092528  369\n",
       "проведение свадьбы         2313  0.079118  183"
      ]
     },
     "execution_count": 26,
     "metadata": {},
     "output_type": "execute_result"
    }
   ],
   "source": [
    "#создание сводной таблицы \n",
    "data_purpose_pivot=data.pivot_table(index=['purpose_category'],values='debt',aggfunc=('count','sum','mean'))\n",
    "data_purpose_pivot"
   ]
  },
  {
   "cell_type": "markdown",
   "id": "0b9b3220",
   "metadata": {},
   "source": [
    "Исходя из данных, чаще всего берут кредиты на операции с недвижимостью, но при этом только 7.25% имеют задолжность по кредиту. Больше всего процент задолжности по кредиту приходит на операции с автомобилем и на получение образования."
   ]
  },
  {
   "cell_type": "markdown",
   "id": "a52b8a9b",
   "metadata": {},
   "source": [
    "### Bозможные причины появления пропусков в исходных данных."
   ]
  },
  {
   "cell_type": "markdown",
   "id": "6e70f602",
   "metadata": {},
   "source": [
    "В исходных данных пропуски совпадают у одного и того же клиента в days_employed и total_income. У этих клиентов тип занятости пенсионер или госслужащий. Им могли выдать кредиты без подтверждения стажа и ежемесячного дохода только на небольшую сумму. Выдача кредитов без справок и подтверждения дохода становится для банка дополнительным конкурентным предложением: он может привлечь клиентов, не желающих тратить несколько дней на сбор документов. Но у этого решения есть конечно свои риски"
   ]
  },
  {
   "cell_type": "markdown",
   "id": "0e25cfaf",
   "metadata": {},
   "source": [
    "## Вывод"
   ]
  },
  {
   "cell_type": "markdown",
   "id": "dbfe8dcd",
   "metadata": {},
   "source": [
    "Была проведена аналитическая работа по изучению влияния разных факторов на погашение кредита в срок. Входные данные от банка- статистика о платежеспособности клиентов.\n",
    "\n",
    "Выдвинутые гипотезы для проверки данных:\n",
    "\n",
    "1)Есть ли зависимость между количеством детей и возврата кредита в срок?\n",
    "\n",
    "2)Есть ли зависимость между семейным положением и возвратом кредита в срок?\n",
    "\n",
    "3)Есть ли зависимость между уровнем дохода и возврата кредита в срок?\n",
    "\n",
    "4)Как разные цели кредита влияют на его возврат в срок?\n",
    "\n",
    "**Гипотеза 1** подтверждена частично.\n",
    "\n",
    "Клиенты не имеющие детей чаще всего берут кредиты, но из них только 7.54% имеют задолжность по кредиту. Из 7240 клиентов с разным количеством детей 669 клиентов имеют задолжность, что составляет 9.24% из общего объема. \n",
    "\n",
    "Для полного подтверждения этой гипотезы нужно проанализировать больше данных с выборкой клиентов от 3 детей и более. \n",
    "\n",
    "**Гипотеза 2** подтверждена.\n",
    "\n",
    "Люди состоящие в узаконенных отношениях или бывшие в них являются более ответственными клиентами, выполняющие свои обязательства. Из их общего объема (14 401 клиент) только 1 074 клиента имеют задолжность по кредиту, что составляет 7.457% от общего объема. \n",
    "\n",
    "6 930 клиентов не состоявшие в узаконенных отношениях взяли кредит в нашем банке, но из них 658 клиентов имеют кредитную задолжность, что составляет 9.49% от общего объема. \n",
    "\n",
    "**Гипотеза 3** подтверждена частично.\n",
    "\n",
    "По изученным данным видно, что проблемы с выплатой кредита в срок возникают у категории 'E'- уровень дохода до 30 000 руб., что составляет 9.09%.   \n",
    "Так же проблемы с выплатой кредита у категории 'C'- уровень дохода от 50 001 руб. до 200 000 руб., из их общего объема (15 921 клиент) 8.49% имеют задолжность по кредиту.\n",
    "\n",
    "Для полного подтверждения гипотезы нужно проанализировать больше данных клиентов из категории 'E','D','B','A'.\n",
    "\n",
    "\n",
    "**Гипотеза 4** подтверждена.\n",
    "\n",
    "Наиболее ответственными заемщиками являются клиенты, бравшие кредит на проведение свадьбы и операции с недвижимостью. Из них 7.25% клиентов , бравшие займ на операции с недвижимостью, имеют задолжность и 7.91% клиентов, бравшие займ на проведение свадьбы. \n",
    "\n",
    "Клиенты бравшие кредит на получение образования и операции с автомобилем имеют 9.3% задолжностей, по своей категории.  \n",
    "\n",
    "**Рекомендации:**\n",
    "\n",
    "1) Провести повторную проверку первой и третьей гипотезы при получении больших данных о клиентах в отдельных категориях;\n",
    "2) Специалисты, строящие модели кредитного скоринга могут использовать вторую и четвертую гипотезу."
   ]
  },
  {
   "cell_type": "code",
   "execution_count": null,
   "id": "b1dad5c2",
   "metadata": {},
   "outputs": [],
   "source": []
  }
 ],
 "metadata": {
  "kernelspec": {
   "display_name": "Python 3 (ipykernel)",
   "language": "python",
   "name": "python3"
  },
  "language_info": {
   "codemirror_mode": {
    "name": "ipython",
    "version": 3
   },
   "file_extension": ".py",
   "mimetype": "text/x-python",
   "name": "python",
   "nbconvert_exporter": "python",
   "pygments_lexer": "ipython3",
   "version": "3.10.9"
  }
 },
 "nbformat": 4,
 "nbformat_minor": 5
}
